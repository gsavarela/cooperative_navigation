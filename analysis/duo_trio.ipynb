{
 "cells": [
  {
   "cell_type": "markdown",
   "id": "b0fbce7e",
   "metadata": {},
   "source": [
    "# Recap: Duo Task.\n",
    "\n",
    "- The landmarks are not fixed -- they randomly restart.\n",
    "- There is a player and landmark assignment kept hidden.\n",
    "- For `episodes=1000` the central agent underperforms.\n",
    "- For `episodes=5000` the central agent overperforms.\n",
    "\n",
    "## Findings\n",
    "\n",
    "1. It takes more episodes to properly train the central agent."
   ]
  },
  {
   "cell_type": "markdown",
   "id": "e680bbcd",
   "metadata": {},
   "source": [
    "# Duo Task\n",
    "\n",
    "## Goal:\n",
    "\n",
    "### Agents must learn how to navigate to a target landmark, while avoiding other agents.\n",
    "\n",
    "- Both agents and landmarks are restarted at the begining of each episode. And agents are assigned a landmark they must navigate to, they must through trial and error be which landmark they were assigned to.\n",
    "- States are the coordinates to the other agent and to both landmarks.\n",
    "- Reward is defined by the distance from an agent to its assigned landmark. If they collide both receive an extra reward=-1.\n",
    "\n",
    "### General MDP\n",
    "\n",
    "$$\\mathcal{X} = \\mathcal{X}_1 \\times \\mathcal{X}_2$$\n",
    "$$\\mathcal{A} = \\mathcal{A}_1 \\times \\mathcal{A}_2$$\n",
    "$$r = r_1(x_1) + r_2(x_2)$$\n",
    "\n",
    "#### TODO: Describe the states, actions and rewards.\n",
    "* (POSX, POSY, landmark  \n",
    "### Central Learner\n",
    "\n",
    "The central agents solves the general MDP above.\n",
    "\n",
    "<table>\n",
    "<tr>\n",
    "<th>Central Agent</th>\n",
    "</tr>\n",
    "<tr>\n",
    "<td>\n",
    "$$\\mathcal{X}_1 \\times \\mathcal{X}_2$$\n",
    "$$\\mathcal{A}_1 \\times \\mathcal{A}_2$$\n",
    "$$r_1(x_1) + r_2(x_2)$$\n",
    "</td>\n",
    "</tr>\n",
    "</table>\n",
    "\n",
    "### Distributed Learners\n",
    "\n",
    "The distributed agent have full observability but learn\n",
    "independently.\n",
    "<table>\n",
    "<tr>\n",
    "<th>Agent 1</th>\n",
    "<th>Agent 2</th>\n",
    "</tr>\n",
    "<tr>\n",
    "<td>\n",
    "$$\\mathcal{X}_1 \\times \\mathcal{X}_2$$\n",
    "$$\\mathcal{A}_1 $$\n",
    "$$r_1(x_1) + r_2(x_2)$$\n",
    "</td>\n",
    "<td>\n",
    "$$\\mathcal{X}_1 \\times \\mathcal{X}_2$$\n",
    "$$\\mathcal{A}_2 $$\n",
    "$$ r_1(x_1) + r_2(x_2)$$\n",
    "</td>\n",
    "</tr>\n",
    "</table>\n",
    "\n",
    "### Independent Learner\n",
    "\n",
    "The distributed agent have partial observability and learn\n",
    "independently.\n",
    "<table>\n",
    "<tr>\n",
    "<th>Agent 1</th>\n",
    "<th>Agent 2</th>\n",
    "</tr>\n",
    "<tr>\n",
    "<td>\n",
    "$$\\mathcal{X}_1$$\n",
    "$$\\mathcal{A}_1$$\n",
    "$$r_1(x_1)$$\n",
    "</td>\n",
    "<td>\n",
    "$$\\mathcal{X}_2$$\n",
    "$$\\mathcal{A}_2 $$\n",
    "$$ r_2(x_2)$$\n",
    "</td>\n",
    "</tr>\n",
    "</table>\n",
    "\n",
    "\n",
    "## Settings\n",
    "\n",
    "\n",
    "1. We compare the three models above. \n",
    "2. Initially, $\\tau = 100$ and it falls linearly with the number of episodes (`explore_episodes=4975`). \n",
    "3. Each test dataframe consists of the DataFrame.describe() statistics from **N** = 30 independent random trials, each of which consisting of rollouts of `M=100`, with $\\tau$ set to a predetermined value.\n",
    "\n",
    "Parameters:\n",
    "```\n",
    "\"\"\"Configuration\"\"\"\n",
    "ALPHA = 0.5  # ALPHA:\n",
    "BETA = 0.3  # BETA:\n",
    "TAU = 5.0   # Final TAU\n",
    "EXPLORE_EPISODES = 4975\n",
    "EPISODES = 5000\n",
    "EXPLORE = True  # WHETER OR NOT WE USE EXPLORATION\n",
    "\n",
    "SEED = 1\n",
    "BASE_PATH = 'data/01_duo/5000'\n",
    "\n",
    "N_WORKERS = 6\n",
    "N_AGENTS = 2\n",
    "AGENT_TYPE = 'ActorCriticIndependent'\n",
    "```"
   ]
  },
  {
   "cell_type": "markdown",
   "id": "cc2ebcbe",
   "metadata": {},
   "source": [
    "\n",
    "## 1) Central Agent"
   ]
  },
  {
   "cell_type": "markdown",
   "id": "e11bc8cf",
   "metadata": {},
   "source": [
    "BASE_PATH = 'data/01_duo/00_central/02'\n",
    "\n",
    "### 1.1 Rollout Simulation\n",
    "\n",
    "GIF from the best performing training.\n",
    "\n",
    "![pipeline-central-simulation](01_duo/5000/tau03/00_central/02/simulation-pipeline-best.gif)"
   ]
  },
  {
   "cell_type": "markdown",
   "id": "6e2ee08b",
   "metadata": {},
   "source": [
    "### 1.2 Rollout Graph\n",
    "\n",
    "\n",
    "![pipeline-central-simulation](01_duo/5000/tau03/00_central/02/evaluation_rollout_n2_num06.png)"
   ]
  },
  {
   "cell_type": "markdown",
   "id": "1d7d4c57",
   "metadata": {},
   "source": [
    "### 1.3 Train<a name=\"A-1.3\"></a> \n",
    "\n",
    "\n",
    "\n",
    "![pipeline-central-train-30](01_duo/5000/tau03/00_central/02/train_pipeline_m30.png)\n",
    "![rollout-central-train-30](01_duo/5000/tau03/00_central/02/train_rollout_m30.png)"
   ]
  },
  {
   "cell_type": "markdown",
   "id": "7579d977",
   "metadata": {},
   "source": [
    "**Results:**\n",
    "    \n",
    "- Number of collisions: **9**\n",
    "- General behaviour: Reaches one landmark and tries to reach the other.\n",
    "- Training: always increasing.\n",
    "- Rollouts: Average about **-0.75**.\n",
    "\n",
    "**Take aways:**\n",
    "\n",
    "- It seems that the central agent is not doing a good job in avoding collisions.\n",
    "- Perhaps increase the training time will help."
   ]
  },
  {
   "cell_type": "markdown",
   "id": "5e48c6c7",
   "metadata": {},
   "source": [
    "## 2) Distributed Actor Critic\n",
    "\n",
    "GIF from the best performing training.\n",
    "\n",
    "\n",
    "![pipeline-joint-simulation](01_duo/5000/tau03/01_distributed_learners/02/simulation-pipeline-best.gif)"
   ]
  },
  {
   "cell_type": "markdown",
   "id": "0afa7c39",
   "metadata": {},
   "source": [
    "### 2.2 Rollout Graph\n",
    "\n",
    "\n",
    "![pipeline-joint-rollout](01_duo/5000/tau03/01_distributed_learners/02/evaluation_rollout_n2_num27.png)"
   ]
  },
  {
   "cell_type": "markdown",
   "id": "2b40213c",
   "metadata": {},
   "source": [
    "### 2.3 Train<a name=\"A-2.3\"></a> \n",
    "\n",
    "\n",
    "![pipeline-distributed-train-30](01_duo/5000/tau03/01_distributed_learners/02/train_pipeline_m30.png)\n",
    "![rollout-distributed-train-30](01_duo/5000/tau03/01_distributed_learners/02/train_rollout_m30.png)"
   ]
  },
  {
   "cell_type": "markdown",
   "id": "492f0319",
   "metadata": {},
   "source": [
    "**Results:**\n",
    "    \n",
    "- Number of collisions: **5**\n",
    "- General behaviour: Oscillatory moving both agents around the middle. \n",
    "- Training: Decreases by the end.\n",
    "- Rollouts: Average about **-0.9**.\n",
    "\n",
    "**Take aways:**\n",
    "\n",
    "- Less collision and less greedy behavior of seeking to really stop on the landmark.\n",
    "- Perhaps selecting the best policy instead of the latest policy will help.\n",
    "- Fine tunning the $\\tau$ factor might help."
   ]
  },
  {
   "cell_type": "markdown",
   "id": "7f13df10",
   "metadata": {},
   "source": [
    "## 3) Independent Learners Actor Critic\n",
    "\n",
    "GIF from the best performing training.\n",
    "\n",
    "\n",
    "![pipeline-independent-simulation](01_duo/5000/tau03/02_independent_learners/02/simulation-pipeline-best.gif)"
   ]
  },
  {
   "cell_type": "markdown",
   "id": "91de82f5",
   "metadata": {},
   "source": [
    "### 3.2 Rollout Graph\n",
    "\n",
    "\n",
    "![pipeline-independent-rollout](01_duo/5000/tau03/02_independent_learners/02/evaluation_rollout_n2_num01.png)"
   ]
  },
  {
   "cell_type": "markdown",
   "id": "3bc0553c",
   "metadata": {},
   "source": [
    "### 3.3 Train <a name=\"A-3.3\"></a> \n",
    "\n",
    "\n",
    "\n",
    "![pipeline-independent-train-30](01_duo/5000/tau03/02_independent_learners/02/train_pipeline_m30.png)\n",
    "![rollout-independent-train-30](01_duo/5000/tau03/02_independent_learners/02/train_rollout_m30.png)"
   ]
  },
  {
   "cell_type": "markdown",
   "id": "297b5682",
   "metadata": {},
   "source": [
    "**Results:**\n",
    "    \n",
    "- Number of collisions: **8**\n",
    "- General behaviour: Both agents try to reache both landmarks.\n",
    "- Training: Flattens by the end.\n",
    "- Rollouts: Average about **-0.7**.\n",
    "\n",
    "**Take aways:**\n",
    "\n",
    "- About as many collisions as the central learner.\n",
    "- Seems that avoiding collisions is not that important for accomplishing the task."
   ]
  },
  {
   "cell_type": "markdown",
   "id": "15b20f5f",
   "metadata": {},
   "source": [
    "## 4) Leaderboard 5000<a name=\"A-leaderboard\"></a> "
   ]
  },
  {
   "cell_type": "code",
   "execution_count": 2,
   "id": "05cb51da",
   "metadata": {},
   "outputs": [],
   "source": [
    "import pandas as pd\n",
    "BASE_PATH = '01_duo/5000/tau03/'\n",
    "filename = 'pipeline-rollouts-summary.csv'\n",
    "central_df = pd.read_csv('{0}00_central/02/{1}'.format(BASE_PATH, filename), sep=',', index_col=0)\n",
    "joint_df = pd.read_csv('{0}01_distributed_learners/02/{1}'.format(BASE_PATH, filename), sep=',', index_col=0)\n",
    "indep_df = pd.read_csv('{0}02_independent_learners/02/{1}'.format(BASE_PATH, filename), sep=',', index_col=0)\n",
    "\n",
    "def describe(dataframe: pd.DataFrame, label: str) -> pd.DataFrame:\n",
    "    \"\"\"Describes the dataframe\n",
    "    \n",
    "    Parameters\n",
    "    ----------\n",
    "    dataframe: pd.DataFrame\n",
    "        A dataframe with description N independent rollouts.\n",
    "        Each consisting of M timesteps.\n",
    "        Trials are in the columns and rows are statistics.\n",
    "        The result of df.describe()\n",
    "   \n",
    "    Returns\n",
    "    -------\n",
    "    dataframe: pd.DataFrame\n",
    "        A description of the average return.\n",
    "    \n",
    "    \"\"\"\n",
    "    df = dataframe.drop(['std', 'count', '25%', '50%', '75%'], axis=0)\n",
    "    ts = df.T.describe()['mean']\n",
    "    ts.name = label\n",
    "    return ts.to_frame()"
   ]
  },
  {
   "cell_type": "code",
   "execution_count": 3,
   "id": "9c037185",
   "metadata": {},
   "outputs": [
    {
     "data": {
      "text/html": [
       "<div>\n",
       "<style scoped>\n",
       "    .dataframe tbody tr th:only-of-type {\n",
       "        vertical-align: middle;\n",
       "    }\n",
       "\n",
       "    .dataframe tbody tr th {\n",
       "        vertical-align: top;\n",
       "    }\n",
       "\n",
       "    .dataframe thead th {\n",
       "        text-align: right;\n",
       "    }\n",
       "</style>\n",
       "<table border=\"1\" class=\"dataframe\">\n",
       "  <thead>\n",
       "    <tr style=\"text-align: right;\">\n",
       "      <th></th>\n",
       "      <th>central</th>\n",
       "      <th>distributed</th>\n",
       "      <th>independent</th>\n",
       "    </tr>\n",
       "  </thead>\n",
       "  <tbody>\n",
       "    <tr>\n",
       "      <th>count</th>\n",
       "      <td>30.000000</td>\n",
       "      <td>30.000000</td>\n",
       "      <td>30.000000</td>\n",
       "    </tr>\n",
       "    <tr>\n",
       "      <th>mean</th>\n",
       "      <td>-0.721073</td>\n",
       "      <td>-0.916111</td>\n",
       "      <td>-0.705630</td>\n",
       "    </tr>\n",
       "    <tr>\n",
       "      <th>std</th>\n",
       "      <td>0.196567</td>\n",
       "      <td>0.163963</td>\n",
       "      <td>0.172653</td>\n",
       "    </tr>\n",
       "    <tr>\n",
       "      <th>min</th>\n",
       "      <td>-1.080272</td>\n",
       "      <td>-1.478240</td>\n",
       "      <td>-1.107668</td>\n",
       "    </tr>\n",
       "    <tr>\n",
       "      <th>25%</th>\n",
       "      <td>-0.899719</td>\n",
       "      <td>-0.975314</td>\n",
       "      <td>-0.822749</td>\n",
       "    </tr>\n",
       "    <tr>\n",
       "      <th>50%</th>\n",
       "      <td>-0.711999</td>\n",
       "      <td>-0.880165</td>\n",
       "      <td>-0.664297</td>\n",
       "    </tr>\n",
       "    <tr>\n",
       "      <th>75%</th>\n",
       "      <td>-0.594784</td>\n",
       "      <td>-0.811225</td>\n",
       "      <td>-0.566666</td>\n",
       "    </tr>\n",
       "    <tr>\n",
       "      <th>max</th>\n",
       "      <td>-0.398747</td>\n",
       "      <td>-0.652587</td>\n",
       "      <td>-0.460799</td>\n",
       "    </tr>\n",
       "  </tbody>\n",
       "</table>\n",
       "</div>"
      ],
      "text/plain": [
       "         central  distributed  independent\n",
       "count  30.000000    30.000000    30.000000\n",
       "mean   -0.721073    -0.916111    -0.705630\n",
       "std     0.196567     0.163963     0.172653\n",
       "min    -1.080272    -1.478240    -1.107668\n",
       "25%    -0.899719    -0.975314    -0.822749\n",
       "50%    -0.711999    -0.880165    -0.664297\n",
       "75%    -0.594784    -0.811225    -0.566666\n",
       "max    -0.398747    -0.652587    -0.460799"
      ]
     },
     "execution_count": 3,
     "metadata": {},
     "output_type": "execute_result"
    }
   ],
   "source": [
    "dataframes = []\n",
    "dataframes.append(describe(central_df, label='central'))\n",
    "dataframes.append(describe(joint_df, label='distributed'))\n",
    "dataframes.append(describe(indep_df, label='independent'))\n",
    "noregdf = pd.concat(dataframes, axis=1)\n",
    "noregdf"
   ]
  },
  {
   "cell_type": "markdown",
   "id": "86686116",
   "metadata": {},
   "source": [
    "1. The first thing to note is that the Evaluation Rollouts show that the central agent presents **9** collisions, while the joint action learner presents **5** collisions and the independent learner presents **8** collisions. Indicating one of the following:\n",
    "    - The central agent hasn´t had time to train --> Increase number of episodes.\n",
    "    - The problem is relativelly simple. For two agents it pays ff to greedly travel to one landmark --> Increase the constraints by adding more agents.\n",
    "    - The lenght of the episode is too short."
   ]
  },
  {
   "cell_type": "markdown",
   "id": "d1b9e952",
   "metadata": {},
   "source": [
    "## 4.1) Leaderboard 5000<a name=\"A-leaderboard-1\"></a>  \n",
    "\n",
    "### 4.1.1) Collision cost\n",
    "\n",
    "\n",
    "Raising the collision cost from `reward=-1.0` to `reward=-2.0` tips the scale in favor of the central algorithm."
   ]
  },
  {
   "cell_type": "code",
   "execution_count": 13,
   "id": "d15d5807",
   "metadata": {},
   "outputs": [
    {
     "data": {
      "text/html": [
       "<div>\n",
       "<style scoped>\n",
       "    .dataframe tbody tr th:only-of-type {\n",
       "        vertical-align: middle;\n",
       "    }\n",
       "\n",
       "    .dataframe tbody tr th {\n",
       "        vertical-align: top;\n",
       "    }\n",
       "\n",
       "    .dataframe thead th {\n",
       "        text-align: right;\n",
       "    }\n",
       "</style>\n",
       "<table border=\"1\" class=\"dataframe\">\n",
       "  <thead>\n",
       "    <tr style=\"text-align: right;\">\n",
       "      <th></th>\n",
       "      <th>central</th>\n",
       "      <th>distributed</th>\n",
       "      <th>independent</th>\n",
       "    </tr>\n",
       "  </thead>\n",
       "  <tbody>\n",
       "    <tr>\n",
       "      <th>count</th>\n",
       "      <td>30.000000</td>\n",
       "      <td>30.000000</td>\n",
       "      <td>30.000000</td>\n",
       "    </tr>\n",
       "    <tr>\n",
       "      <th>mean</th>\n",
       "      <td>-0.748398</td>\n",
       "      <td>-0.981290</td>\n",
       "      <td>-0.751045</td>\n",
       "    </tr>\n",
       "    <tr>\n",
       "      <th>std</th>\n",
       "      <td>0.199766</td>\n",
       "      <td>0.167453</td>\n",
       "      <td>0.215294</td>\n",
       "    </tr>\n",
       "    <tr>\n",
       "      <th>min</th>\n",
       "      <td>-1.134656</td>\n",
       "      <td>-1.504635</td>\n",
       "      <td>-1.162195</td>\n",
       "    </tr>\n",
       "    <tr>\n",
       "      <th>25%</th>\n",
       "      <td>-0.900333</td>\n",
       "      <td>-1.055970</td>\n",
       "      <td>-0.887457</td>\n",
       "    </tr>\n",
       "    <tr>\n",
       "      <th>50%</th>\n",
       "      <td>-0.746279</td>\n",
       "      <td>-0.944458</td>\n",
       "      <td>-0.737118</td>\n",
       "    </tr>\n",
       "    <tr>\n",
       "      <th>75%</th>\n",
       "      <td>-0.582770</td>\n",
       "      <td>-0.885843</td>\n",
       "      <td>-0.609881</td>\n",
       "    </tr>\n",
       "    <tr>\n",
       "      <th>max</th>\n",
       "      <td>-0.428029</td>\n",
       "      <td>-0.761828</td>\n",
       "      <td>-0.324490</td>\n",
       "    </tr>\n",
       "  </tbody>\n",
       "</table>\n",
       "</div>"
      ],
      "text/plain": [
       "         central  distributed  independent\n",
       "count  30.000000    30.000000    30.000000\n",
       "mean   -0.748398    -0.981290    -0.751045\n",
       "std     0.199766     0.167453     0.215294\n",
       "min    -1.134656    -1.504635    -1.162195\n",
       "25%    -0.900333    -1.055970    -0.887457\n",
       "50%    -0.746279    -0.944458    -0.737118\n",
       "75%    -0.582770    -0.885843    -0.609881\n",
       "max    -0.428029    -0.761828    -0.324490"
      ]
     },
     "execution_count": 13,
     "metadata": {},
     "output_type": "execute_result"
    }
   ],
   "source": [
    "BASE_PATH = '03_duo_collisions/5000/'\n",
    "filename = 'pipeline-rollouts-summary.csv'\n",
    "central_df = pd.read_csv('{0}00_central/02/{1}'.format(BASE_PATH, filename), sep=',', index_col=0)\n",
    "joint_df = pd.read_csv('{0}01_distributed_learners/02/{1}'.format(BASE_PATH, filename), sep=',', index_col=0)\n",
    "indep_df = pd.read_csv('{0}02_independent_learners/02/{1}'.format(BASE_PATH, filename), sep=',', index_col=0)\n",
    "\n",
    "dataframes = []\n",
    "dataframes.append(describe(central_df, label='central'))\n",
    "dataframes.append(describe(joint_df, label='distributed'))\n",
    "dataframes.append(describe(indep_df, label='independent'))\n",
    "df = pd.concat(dataframes, axis=1)\n",
    "df"
   ]
  },
  {
   "cell_type": "markdown",
   "id": "e3f60f9c",
   "metadata": {},
   "source": [
    "**Take aways:**\n",
    "\n",
    "- Central now overtakes the independent as measured by average reward.\n",
    "- Central agent simulation has less standard deviation than independent.\n",
    "- Curiously, the distributed has the least standard deviation of all three agents."
   ]
  },
  {
   "cell_type": "markdown",
   "id": "0393b690",
   "metadata": {},
   "source": [
    "# Trio Task<a name=\"B-section\"></a> \n",
    "\n",
    "We set `n_runs=12`.\n",
    "\n",
    "Parameters:\n",
    "```\n",
    "\"\"\"Configuration\"\"\"\n",
    "ALPHA = 0.5  # ALPHA:\n",
    "BETA = 0.3  # BETA:\n",
    "TAU = 3.0   # Final TAU\n",
    "EXPLORE_EPISODES = 14975\n",
    "EPISODES = 15000\n",
    "\n",
    "EXPLORE = True  # WHETER OR NOT WE USE EXPLORATION\n",
    "\n",
    "SEED = 1\n",
    "BASE_PATH = 'data/02_trio/15000'\n",
    "\n",
    "N_WORKERS = 6\n",
    "N_AGENTS = 3\n",
    "AGENT_TYPE = 'ActorCriticIndependent'\n",
    "```\n"
   ]
  },
  {
   "cell_type": "markdown",
   "id": "09c547be",
   "metadata": {},
   "source": [
    "## 1) Central Agent"
   ]
  },
  {
   "cell_type": "markdown",
   "id": "6c5e439a",
   "metadata": {},
   "source": [
    "BASE_PATH = '02_trio/15000/00_central/02'\n",
    "\n",
    "### 1.1 Rollout Simulation\n",
    "\n",
    "GIF from the best performing training.\n",
    "\n",
    "![pipeline-central-simulation](02_trio/15000/00_central/02/simulation-pipeline-best.gif)"
   ]
  },
  {
   "cell_type": "markdown",
   "id": "9daa439e",
   "metadata": {},
   "source": [
    "### 1.2 Rollout Graph\n",
    "\n",
    "\n",
    "![pipeline-central-simulation](02_trio/15000/00_central/02/evaluation_rollout_n3_num04.png)"
   ]
  },
  {
   "cell_type": "markdown",
   "id": "e0aa2b48",
   "metadata": {},
   "source": [
    "### 1.3 Train<a name=\"A-1.3\"></a> \n",
    "\n",
    "\n",
    "\n",
    "![pipeline-central-train-30](02_trio/15000/00_central/02/train_pipeline_m12.png)\n",
    "![rollout-central-train-30](02_trio/15000/00_central/02/train_rollout_m12.png)"
   ]
  },
  {
   "cell_type": "markdown",
   "id": "da159332",
   "metadata": {},
   "source": [
    "## 2) Distributed Actor Critic\n",
    "\n",
    "GIF from the best performing training.\n",
    "\n",
    "\n",
    "![pipeline-joint-simulation](02_trio/15000/01_distributed_learners/02/simulation-pipeline-best.gif)"
   ]
  },
  {
   "cell_type": "markdown",
   "id": "8ae3c1aa",
   "metadata": {},
   "source": [
    "### 2.2 Rollout Graph\n",
    "\n",
    "\n",
    "![pipeline-joint-rollout](02_trio/15000/01_distributed_learners/02/evaluation_rollout_n3_num10.png)"
   ]
  },
  {
   "cell_type": "markdown",
   "id": "e747f159",
   "metadata": {},
   "source": [
    "### 2.3 Train<a name=\"B-2.3\"></a> \n",
    "\n",
    "\n",
    "\n",
    "![pipeline-joint-train-30](02_trio/15000/01_distributed_learners/02/train_pipeline_m12.png)\n",
    "![rollout-joint-train-30](02_trio/15000/01_distributed_learners/02/train_rollout_m12.png)"
   ]
  },
  {
   "cell_type": "markdown",
   "id": "30b5849d",
   "metadata": {},
   "source": [
    "## 2) Independent Actor Critic\n",
    "\n",
    "GIF from the best performing training.\n",
    "\n",
    "\n",
    "![pipeline-joint-simulation](02_trio/15000/02_independent_learners/02/simulation-pipeline-best.gif)"
   ]
  },
  {
   "cell_type": "markdown",
   "id": "93643e57",
   "metadata": {},
   "source": [
    "### 2.2 Rollout Graph\n",
    "\n",
    "\n",
    "![pipeline-joint-rollout](02_trio/15000/02_independent_learners/02/evaluation_rollout_n3_num10.png)"
   ]
  },
  {
   "cell_type": "markdown",
   "id": "ae1b2bd9",
   "metadata": {},
   "source": [
    "### 2.3 Train<a name=\"B-2.3\"></a> \n",
    "\n",
    "\n",
    "\n",
    "![pipeline-joint-train-30](02_trio/15000/02_independent_learners/02/train_pipeline_m12.png)\n",
    "![rollout-joint-train-30](02_trio/15000/02_independent_learners/02/train_rollout_m12.png)"
   ]
  },
  {
   "cell_type": "markdown",
   "id": "c3905dea",
   "metadata": {},
   "source": [
    "## 4) Leaderboard 15000<a name=\"B-leaderboard\"></a> "
   ]
  },
  {
   "cell_type": "code",
   "execution_count": 4,
   "id": "2b84f4b8",
   "metadata": {},
   "outputs": [],
   "source": [
    "import pandas as pd\n",
    "BASE_PATH = '02_trio/15000/'\n",
    "filename = 'pipeline-rollouts-summary.csv'\n",
    "central_df = pd.read_csv('{0}00_central/02/{1}'.format(BASE_PATH, filename), sep=',', index_col=0)\n",
    "joint_df = pd.read_csv('{0}01_distributed_learners/02/{1}'.format(BASE_PATH, filename), sep=',', index_col=0)\n",
    "indep_df = pd.read_csv('{0}02_independent_learners/02/{1}'.format(BASE_PATH, filename), sep=',', index_col=0)\n"
   ]
  },
  {
   "cell_type": "code",
   "execution_count": 5,
   "id": "2a12b504",
   "metadata": {},
   "outputs": [
    {
     "data": {
      "text/html": [
       "<div>\n",
       "<style scoped>\n",
       "    .dataframe tbody tr th:only-of-type {\n",
       "        vertical-align: middle;\n",
       "    }\n",
       "\n",
       "    .dataframe tbody tr th {\n",
       "        vertical-align: top;\n",
       "    }\n",
       "\n",
       "    .dataframe thead th {\n",
       "        text-align: right;\n",
       "    }\n",
       "</style>\n",
       "<table border=\"1\" class=\"dataframe\">\n",
       "  <thead>\n",
       "    <tr style=\"text-align: right;\">\n",
       "      <th></th>\n",
       "      <th>central</th>\n",
       "      <th>distributed</th>\n",
       "      <th>independent</th>\n",
       "    </tr>\n",
       "  </thead>\n",
       "  <tbody>\n",
       "    <tr>\n",
       "      <th>count</th>\n",
       "      <td>12.000000</td>\n",
       "      <td>12.000000</td>\n",
       "      <td>12.000000</td>\n",
       "    </tr>\n",
       "    <tr>\n",
       "      <th>mean</th>\n",
       "      <td>-0.832820</td>\n",
       "      <td>-0.968436</td>\n",
       "      <td>-0.845123</td>\n",
       "    </tr>\n",
       "    <tr>\n",
       "      <th>std</th>\n",
       "      <td>0.171572</td>\n",
       "      <td>0.141458</td>\n",
       "      <td>0.195450</td>\n",
       "    </tr>\n",
       "    <tr>\n",
       "      <th>min</th>\n",
       "      <td>-1.095576</td>\n",
       "      <td>-1.197982</td>\n",
       "      <td>-1.132111</td>\n",
       "    </tr>\n",
       "    <tr>\n",
       "      <th>25%</th>\n",
       "      <td>-0.945631</td>\n",
       "      <td>-1.048738</td>\n",
       "      <td>-0.980796</td>\n",
       "    </tr>\n",
       "    <tr>\n",
       "      <th>50%</th>\n",
       "      <td>-0.835888</td>\n",
       "      <td>-0.983141</td>\n",
       "      <td>-0.872567</td>\n",
       "    </tr>\n",
       "    <tr>\n",
       "      <th>75%</th>\n",
       "      <td>-0.707972</td>\n",
       "      <td>-0.832270</td>\n",
       "      <td>-0.740878</td>\n",
       "    </tr>\n",
       "    <tr>\n",
       "      <th>max</th>\n",
       "      <td>-0.592599</td>\n",
       "      <td>-0.761953</td>\n",
       "      <td>-0.488058</td>\n",
       "    </tr>\n",
       "  </tbody>\n",
       "</table>\n",
       "</div>"
      ],
      "text/plain": [
       "         central  distributed  independent\n",
       "count  12.000000    12.000000    12.000000\n",
       "mean   -0.832820    -0.968436    -0.845123\n",
       "std     0.171572     0.141458     0.195450\n",
       "min    -1.095576    -1.197982    -1.132111\n",
       "25%    -0.945631    -1.048738    -0.980796\n",
       "50%    -0.835888    -0.983141    -0.872567\n",
       "75%    -0.707972    -0.832270    -0.740878\n",
       "max    -0.592599    -0.761953    -0.488058"
      ]
     },
     "execution_count": 5,
     "metadata": {},
     "output_type": "execute_result"
    }
   ],
   "source": [
    "dataframes = []\n",
    "dataframes.append(describe(central_df, label='central'))\n",
    "dataframes.append(describe(joint_df, label='distributed'))\n",
    "dataframes.append(describe(indep_df, label='independent'))\n",
    "noregdf = pd.concat(dataframes, axis=1)\n",
    "noregdf"
   ]
  },
  {
   "cell_type": "markdown",
   "id": "02aca85d",
   "metadata": {},
   "source": [
    "## 4.2 ) Central 25000\n",
    "\n",
    "Is the problem a lack of training episodes for the centralized agent?"
   ]
  },
  {
   "cell_type": "code",
   "execution_count": 9,
   "id": "e96df306",
   "metadata": {},
   "outputs": [
    {
     "data": {
      "text/html": [
       "<div>\n",
       "<style scoped>\n",
       "    .dataframe tbody tr th:only-of-type {\n",
       "        vertical-align: middle;\n",
       "    }\n",
       "\n",
       "    .dataframe tbody tr th {\n",
       "        vertical-align: top;\n",
       "    }\n",
       "\n",
       "    .dataframe thead th {\n",
       "        text-align: right;\n",
       "    }\n",
       "</style>\n",
       "<table border=\"1\" class=\"dataframe\">\n",
       "  <thead>\n",
       "    <tr style=\"text-align: right;\">\n",
       "      <th></th>\n",
       "      <th>central</th>\n",
       "    </tr>\n",
       "  </thead>\n",
       "  <tbody>\n",
       "    <tr>\n",
       "      <th>count</th>\n",
       "      <td>5.000000</td>\n",
       "    </tr>\n",
       "    <tr>\n",
       "      <th>mean</th>\n",
       "      <td>-0.839612</td>\n",
       "    </tr>\n",
       "    <tr>\n",
       "      <th>std</th>\n",
       "      <td>0.232856</td>\n",
       "    </tr>\n",
       "    <tr>\n",
       "      <th>min</th>\n",
       "      <td>-1.116290</td>\n",
       "    </tr>\n",
       "    <tr>\n",
       "      <th>25%</th>\n",
       "      <td>-1.042792</td>\n",
       "    </tr>\n",
       "    <tr>\n",
       "      <th>50%</th>\n",
       "      <td>-0.783479</td>\n",
       "    </tr>\n",
       "    <tr>\n",
       "      <th>75%</th>\n",
       "      <td>-0.683122</td>\n",
       "    </tr>\n",
       "    <tr>\n",
       "      <th>max</th>\n",
       "      <td>-0.572376</td>\n",
       "    </tr>\n",
       "  </tbody>\n",
       "</table>\n",
       "</div>"
      ],
      "text/plain": [
       "        central\n",
       "count  5.000000\n",
       "mean  -0.839612\n",
       "std    0.232856\n",
       "min   -1.116290\n",
       "25%   -1.042792\n",
       "50%   -0.783479\n",
       "75%   -0.683122\n",
       "max   -0.572376"
      ]
     },
     "execution_count": 9,
     "metadata": {},
     "output_type": "execute_result"
    }
   ],
   "source": [
    "BASE_PATH = '02_trio/25000/'\n",
    "filename = 'pipeline-rollouts-summary.csv'\n",
    "central_df = pd.read_csv('{0}00_central/02/{1}'.format(BASE_PATH, filename), sep=',', index_col=0)\n",
    "describe(central_df, label='central')"
   ]
  },
  {
   "cell_type": "markdown",
   "id": "ed0dfbbd",
   "metadata": {},
   "source": [
    "**Result**: It doesn´t seem so."
   ]
  },
  {
   "cell_type": "code",
   "execution_count": null,
   "id": "ee741227",
   "metadata": {},
   "outputs": [],
   "source": []
  }
 ],
 "metadata": {
  "kernelspec": {
   "display_name": "Python 3 (ipykernel)",
   "language": "python",
   "name": "python3"
  },
  "language_info": {
   "codemirror_mode": {
    "name": "ipython",
    "version": 3
   },
   "file_extension": ".py",
   "mimetype": "text/x-python",
   "name": "python",
   "nbconvert_exporter": "python",
   "pygments_lexer": "ipython3",
   "version": "3.9.6"
  }
 },
 "nbformat": 4,
 "nbformat_minor": 5
}
