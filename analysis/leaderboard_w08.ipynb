{
 "cells": [
  {
   "cell_type": "markdown",
   "id": "b0fbce7e",
   "metadata": {},
   "source": [
    "# Recap\n",
    "\n",
    "- We tested the single agent setting for a different task.\n",
    "- The landmarks were always fixed at time of the environment initialization.\n",
    "- It was shown that the agent learned to navigate to any part of the map.\n",
    "- Particularly, when the agent's starting coordinate was kept fixed and overflow would happen. Random restart is an essencial part of exploration.\n",
    "- The optimal policies are not deterministic -- the temperature parameter $\\tau$ that regulates the entropy was tested for **1**, **2**, **3**, **5** and **10**.\n",
    "\n",
    "## Findings\n",
    "\n",
    "1. The most useful task is to randomly restart the landmarks.\n",
    "2. Regularization, via parameter clipping, improved learning.\n",
    "3. The optimal value for $\\tau = 5.0$.\n"
   ]
  },
  {
   "cell_type": "markdown",
   "id": "e680bbcd",
   "metadata": {},
   "source": [
    "# Duo Task\n",
    "\n",
    "## Goal:\n",
    "\n",
    "### Agents must learn how to navigate to a target landmark, while avoiding other agents.\n",
    "\n",
    "- Both agents and landmarks are restarted at the begining of each episode. And agents are assigned a landmark they must navigate to, they must through trial and error be find which landmark they were assigned to.\n",
    "- States are the coordinates to the other agent and to both landmarks.\n",
    "- Reward is defined by the distance from an agent to its assigned landmark. If they collide both receive an extra reward=-1.\n",
    "\n",
    "\n",
    "\n",
    "The objective of this notebook is to compare three learning settings.\n",
    "\n",
    "1. Centralized Actor Critic\n",
    "\n",
    "    - Single agent.\n",
    "    - Fully observable setting.\n",
    "    - Learnings using the average reward from both players.\n",
    "2. Cooperative Actor Critic\n",
    "\n",
    "    - Independent agents.\n",
    "    - Fully observable setting.\n",
    "    - Learnings using the average reward from both players.\n",
    "\n",
    "3. Independent Learners Actor Critic\n",
    "\n",
    "    - Independent agents.\n",
    "    - Fully observable setting.\n",
    "    - Individual rewards.\n",
    "\n",
    "## Section A: First attempt.\n",
    "\n",
    "\n",
    "## Settings\n",
    "\n",
    "\n",
    "1. We compare the three models above. \n",
    "2. Initially, $\\tau = 100$ and it falls linearly with the number of episodes (`explore_episodes=3000`). \n",
    "3. Each test dataframe consists of the DataFrame.describe() statistics from **N** = 30 independent random trials, each of which consisting of rollouts of `M=100`, with $\\tau$ set to a predetermined value.\n",
    "\n",
    "Parameters:\n",
    "```\n",
    "\"\"\"Configuration\"\"\"\n",
    "# The hyperparameter for the environment: Number of agents.\n",
    "N_AGENTS = 2\n",
    "# The pipeline agent\n",
    "AGENT_TYPE = 'ActorCriticCentral'\n",
    "# Alpha learning rate for the critic\n",
    "ALPHA = 0.5\n",
    "# Learning rate for the actor\n",
    "BETA = 0.3\n",
    "# Final temperature parameter\n",
    "TAU = 5.0\n",
    "# The weighting for the moving average\n",
    "ZETA = 0.01\n",
    "# The episodes with temperature greater than TAU\n",
    "EXPLORE_EPISODES = 3000\n",
    "# The total number of training episodes.\n",
    "EPISODES = 7500\n",
    "# Applies temperature parameter from 100-TAU\n",
    "EXPLORE = True  # WHETER OR NOT WE USE EXPLORATION\n",
    "CONSENSUS_MATRIX_TYPE = 'metropolis'\n",
    "# Maximum number of edges.\n",
    "CONSENSUS_MAX_EDGES = 0\n",
    "# Stop training at every checkpoint_interval\n",
    "CHECKPOINT_INTERVAL = 500\n",
    "# Evaluate checkpoint for checkpoint evaluations\n",
    "CHECKPOINT_EVALUATIONS = 32\n",
    "# Training_cycle = train for checkpoint interval + checkpoint_evaluation\n",
    "TRAINING_CYCLES = EPISODES // CHECKPOINT_INTERVAL\n",
    "# Seed for individual runs, e.g, `python central.py`\n",
    "SEED = 1\n",
    "# The path that the experiments will be saved at.\n",
    "BASE_PATH = 'data/00_duo_w08v2'\n",
    "# The number of pipeline workers\n",
    "N_WORKERS = 15\n",
    "# Those are the training random seeds, i.e., `.\\pipeline`\n",
    "PIPELINE_SEEDS = [\n",
    "    47,\n",
    "    48,\n",
    "    49,\n",
    "    50,\n",
    "    51,\n",
    "    52,\n",
    "    53,\n",
    "    54,\n",
    "    55,\n",
    "    56,\n",
    "    57,\n",
    "    58,\n",
    "    59,\n",
    "    60,\n",
    "    61,\n",
    "    62,\n",
    "    63,\n",
    "    64,\n",
    "    65,\n",
    "    66,\n",
    "    67,\n",
    "    68,\n",
    "    69,\n",
    "    70,\n",
    "    71,\n",
    "    72,\n",
    "    73,\n",
    "    74,\n",
    "    75,\n",
    "    76\n",
    "]\n",
    "```"
   ]
  },
  {
   "cell_type": "markdown",
   "id": "41b4d090",
   "metadata": {},
   "source": [
    "## DuoTask"
   ]
  },
  {
   "cell_type": "code",
   "execution_count": 1,
   "id": "05cb51da",
   "metadata": {},
   "outputs": [],
   "source": [
    "from pathlib import Path\n",
    "import pandas as pd\n",
    "BASE_PATH = '00_duo_w08v2/'\n",
    "\n",
    "def get_path(x: str) -> str:\n",
    "    return (Path(BASE_PATH) / x / '02'/ 'pipeline-rollouts-summary.csv').as_posix()\n",
    "\n",
    "def get_csv(x: str) -> pd.DataFrame:\n",
    "    return pd.read_csv(get_path(x), sep=',', index_col=0)\n",
    " \n",
    "def describe(dataframe: pd.DataFrame, label: str) -> pd.DataFrame:\n",
    "    \"\"\"Describes the dataframe\n",
    "    \n",
    "    Parameters\n",
    "    ----------\n",
    "    dataframe: pd.DataFrame\n",
    "        A dataframe with description N independent rollouts.\n",
    "        Each consisting of M timesteps.\n",
    "        Trials are in the columns and rows are statistics.\n",
    "        The result of df.describe()\n",
    "   \n",
    "    Returns\n",
    "    -------\n",
    "    dataframe: pd.DataFrame\n",
    "        A description of the average return.\n",
    "    \n",
    "    \"\"\"\n",
    "    df = dataframe.drop(['std', 'count', '25%', '50%', '75%'], axis=0)\n",
    "    ts = df.T.describe()['mean']\n",
    "    ts.name = label\n",
    "    return ts.to_frame()"
   ]
  },
  {
   "cell_type": "markdown",
   "id": "63dd3ed2",
   "metadata": {},
   "source": [
    "## LEADERBOARD DUO\n",
    "\n",
    "* Early stopping\n",
    "* No coefficient scaling."
   ]
  },
  {
   "cell_type": "code",
   "execution_count": 2,
   "id": "9ce2cad3",
   "metadata": {},
   "outputs": [
    {
     "data": {
      "text/html": [
       "<div>\n",
       "<style scoped>\n",
       "    .dataframe tbody tr th:only-of-type {\n",
       "        vertical-align: middle;\n",
       "    }\n",
       "\n",
       "    .dataframe tbody tr th {\n",
       "        vertical-align: top;\n",
       "    }\n",
       "\n",
       "    .dataframe thead th {\n",
       "        text-align: right;\n",
       "    }\n",
       "</style>\n",
       "<table border=\"1\" class=\"dataframe\">\n",
       "  <thead>\n",
       "    <tr style=\"text-align: right;\">\n",
       "      <th></th>\n",
       "      <th>Central</th>\n",
       "      <th>Distributed V</th>\n",
       "      <th>Distributed Q</th>\n",
       "      <th>Independent</th>\n",
       "      <th>Consensus 0</th>\n",
       "    </tr>\n",
       "  </thead>\n",
       "  <tbody>\n",
       "    <tr>\n",
       "      <th>count</th>\n",
       "      <td>30.000000</td>\n",
       "      <td>30.000000</td>\n",
       "      <td>30.000000</td>\n",
       "      <td>30.000000</td>\n",
       "      <td>30.000000</td>\n",
       "    </tr>\n",
       "    <tr>\n",
       "      <th>mean</th>\n",
       "      <td>-0.830040</td>\n",
       "      <td>-1.004297</td>\n",
       "      <td>-0.858820</td>\n",
       "      <td>-0.892309</td>\n",
       "      <td>-0.953889</td>\n",
       "    </tr>\n",
       "    <tr>\n",
       "      <th>std</th>\n",
       "      <td>0.200758</td>\n",
       "      <td>0.294407</td>\n",
       "      <td>0.258458</td>\n",
       "      <td>0.270232</td>\n",
       "      <td>0.400461</td>\n",
       "    </tr>\n",
       "    <tr>\n",
       "      <th>min</th>\n",
       "      <td>-1.277805</td>\n",
       "      <td>-1.747653</td>\n",
       "      <td>-1.379718</td>\n",
       "      <td>-1.561585</td>\n",
       "      <td>-2.081548</td>\n",
       "    </tr>\n",
       "    <tr>\n",
       "      <th>25%</th>\n",
       "      <td>-0.971580</td>\n",
       "      <td>-1.222500</td>\n",
       "      <td>-1.022172</td>\n",
       "      <td>-1.066459</td>\n",
       "      <td>-1.073955</td>\n",
       "    </tr>\n",
       "    <tr>\n",
       "      <th>50%</th>\n",
       "      <td>-0.807798</td>\n",
       "      <td>-0.921407</td>\n",
       "      <td>-0.800058</td>\n",
       "      <td>-0.860482</td>\n",
       "      <td>-0.834541</td>\n",
       "    </tr>\n",
       "    <tr>\n",
       "      <th>75%</th>\n",
       "      <td>-0.669926</td>\n",
       "      <td>-0.796883</td>\n",
       "      <td>-0.699784</td>\n",
       "      <td>-0.722185</td>\n",
       "      <td>-0.661614</td>\n",
       "    </tr>\n",
       "    <tr>\n",
       "      <th>max</th>\n",
       "      <td>-0.498115</td>\n",
       "      <td>-0.494297</td>\n",
       "      <td>-0.327838</td>\n",
       "      <td>-0.446712</td>\n",
       "      <td>-0.520615</td>\n",
       "    </tr>\n",
       "  </tbody>\n",
       "</table>\n",
       "</div>"
      ],
      "text/plain": [
       "         Central  Distributed V  Distributed Q  Independent  Consensus 0\n",
       "count  30.000000      30.000000      30.000000    30.000000    30.000000\n",
       "mean   -0.830040      -1.004297      -0.858820    -0.892309    -0.953889\n",
       "std     0.200758       0.294407       0.258458     0.270232     0.400461\n",
       "min    -1.277805      -1.747653      -1.379718    -1.561585    -2.081548\n",
       "25%    -0.971580      -1.222500      -1.022172    -1.066459    -1.073955\n",
       "50%    -0.807798      -0.921407      -0.800058    -0.860482    -0.834541\n",
       "75%    -0.669926      -0.796883      -0.699784    -0.722185    -0.661614\n",
       "max    -0.498115      -0.494297      -0.327838    -0.446712    -0.520615"
      ]
     },
     "execution_count": 2,
     "metadata": {},
     "output_type": "execute_result"
    }
   ],
   "source": [
    "central_df = get_csv('00_central')\n",
    "distributed_v_df = get_csv('01_distributed_learners_v')\n",
    "distributed_q_df = get_csv('02_distributed_learners_q')\n",
    "independent_df = get_csv('02_independent_learners')\n",
    "consensus_df = get_csv('03_consensus_learners')\n",
    "\n",
    "dataframes = []\n",
    "dataframes.append(describe(central_df, label='Central'))\n",
    "dataframes.append(describe(distributed_v_df, label='Distributed V'))\n",
    "dataframes.append(describe(distributed_q_df, label='Distributed Q'))\n",
    "dataframes.append(describe(independent_df, label='Independent'))\n",
    "dataframes.append(describe(consensus_df, label='Consensus 0'))\n",
    "noregdf = pd.concat(dataframes, axis=1)\n",
    "noregdf"
   ]
  },
  {
   "cell_type": "markdown",
   "id": "33c044fb",
   "metadata": {},
   "source": [
    "## Trio Task\n",
    "\n",
    "* Early stopping\n",
    "* No coefficient scaling."
   ]
  },
  {
   "cell_type": "code",
   "execution_count": 3,
   "id": "eaa9e538",
   "metadata": {},
   "outputs": [],
   "source": [
    "from pathlib import Path\n",
    "import pandas as pd\n",
    "BASE_PATH = '01_trio_w08v2/'\n",
    "\n",
    "def get_path(x: str) -> str:\n",
    "    return (Path(BASE_PATH) / x / '02'/ 'pipeline-rollouts-summary.csv').as_posix()\n",
    "\n",
    "def get_csv(x: str) -> pd.DataFrame:\n",
    "    return pd.read_csv(get_path(x), sep=',', index_col=0)\n",
    " \n",
    "def describe(dataframe: pd.DataFrame, label: str) -> pd.DataFrame:\n",
    "    \"\"\"Describes the dataframe\n",
    "    \n",
    "    Parameters\n",
    "    ----------\n",
    "    dataframe: pd.DataFrame\n",
    "        A dataframe with description N independent rollouts.\n",
    "        Each consisting of M timesteps.\n",
    "        Trials are in the columns and rows are statistics.\n",
    "        The result of df.describe()\n",
    "   \n",
    "    Returns\n",
    "    -------\n",
    "    dataframe: pd.DataFrame\n",
    "        A description of the average return.\n",
    "    \n",
    "    \"\"\"\n",
    "    df = dataframe.drop(['std', 'count', '25%', '50%', '75%'], axis=0)\n",
    "    ts = df.T.describe()['mean']\n",
    "    ts.name = label\n",
    "    return ts.to_frame()"
   ]
  },
  {
   "cell_type": "markdown",
   "id": "cbbe37b7",
   "metadata": {},
   "source": [
    "## LEADERBOARD TRIO\n",
    "\n",
    "* Early stopping\n",
    "* No coefficient scaling."
   ]
  },
  {
   "cell_type": "code",
   "execution_count": 4,
   "id": "16a144c2",
   "metadata": {},
   "outputs": [
    {
     "data": {
      "text/html": [
       "<div>\n",
       "<style scoped>\n",
       "    .dataframe tbody tr th:only-of-type {\n",
       "        vertical-align: middle;\n",
       "    }\n",
       "\n",
       "    .dataframe tbody tr th {\n",
       "        vertical-align: top;\n",
       "    }\n",
       "\n",
       "    .dataframe thead th {\n",
       "        text-align: right;\n",
       "    }\n",
       "</style>\n",
       "<table border=\"1\" class=\"dataframe\">\n",
       "  <thead>\n",
       "    <tr style=\"text-align: right;\">\n",
       "      <th></th>\n",
       "      <th>Central</th>\n",
       "      <th>Distributed V</th>\n",
       "      <th>Distributed Q</th>\n",
       "      <th>Independent</th>\n",
       "      <th>Consensus 0</th>\n",
       "    </tr>\n",
       "  </thead>\n",
       "  <tbody>\n",
       "    <tr>\n",
       "      <th>count</th>\n",
       "      <td>30.000000</td>\n",
       "      <td>30.000000</td>\n",
       "      <td>30.000000</td>\n",
       "      <td>30.000000</td>\n",
       "      <td>30.000000</td>\n",
       "    </tr>\n",
       "    <tr>\n",
       "      <th>mean</th>\n",
       "      <td>-0.983400</td>\n",
       "      <td>-1.239187</td>\n",
       "      <td>-1.404430</td>\n",
       "      <td>-0.902668</td>\n",
       "      <td>-1.043262</td>\n",
       "    </tr>\n",
       "    <tr>\n",
       "      <th>std</th>\n",
       "      <td>0.216777</td>\n",
       "      <td>0.284464</td>\n",
       "      <td>0.433704</td>\n",
       "      <td>0.239304</td>\n",
       "      <td>0.300263</td>\n",
       "    </tr>\n",
       "    <tr>\n",
       "      <th>min</th>\n",
       "      <td>-1.401608</td>\n",
       "      <td>-1.788341</td>\n",
       "      <td>-2.305033</td>\n",
       "      <td>-1.662001</td>\n",
       "      <td>-1.715591</td>\n",
       "    </tr>\n",
       "    <tr>\n",
       "      <th>25%</th>\n",
       "      <td>-1.128635</td>\n",
       "      <td>-1.487501</td>\n",
       "      <td>-1.651229</td>\n",
       "      <td>-0.977483</td>\n",
       "      <td>-1.208001</td>\n",
       "    </tr>\n",
       "    <tr>\n",
       "      <th>50%</th>\n",
       "      <td>-0.991817</td>\n",
       "      <td>-1.182313</td>\n",
       "      <td>-1.447136</td>\n",
       "      <td>-0.880747</td>\n",
       "      <td>-1.067586</td>\n",
       "    </tr>\n",
       "    <tr>\n",
       "      <th>75%</th>\n",
       "      <td>-0.801666</td>\n",
       "      <td>-0.994964</td>\n",
       "      <td>-1.014393</td>\n",
       "      <td>-0.736905</td>\n",
       "      <td>-0.789998</td>\n",
       "    </tr>\n",
       "    <tr>\n",
       "      <th>max</th>\n",
       "      <td>-0.586792</td>\n",
       "      <td>-0.822073</td>\n",
       "      <td>-0.759026</td>\n",
       "      <td>-0.479741</td>\n",
       "      <td>-0.546378</td>\n",
       "    </tr>\n",
       "  </tbody>\n",
       "</table>\n",
       "</div>"
      ],
      "text/plain": [
       "         Central  Distributed V  Distributed Q  Independent  Consensus 0\n",
       "count  30.000000      30.000000      30.000000    30.000000    30.000000\n",
       "mean   -0.983400      -1.239187      -1.404430    -0.902668    -1.043262\n",
       "std     0.216777       0.284464       0.433704     0.239304     0.300263\n",
       "min    -1.401608      -1.788341      -2.305033    -1.662001    -1.715591\n",
       "25%    -1.128635      -1.487501      -1.651229    -0.977483    -1.208001\n",
       "50%    -0.991817      -1.182313      -1.447136    -0.880747    -1.067586\n",
       "75%    -0.801666      -0.994964      -1.014393    -0.736905    -0.789998\n",
       "max    -0.586792      -0.822073      -0.759026    -0.479741    -0.546378"
      ]
     },
     "execution_count": 4,
     "metadata": {},
     "output_type": "execute_result"
    }
   ],
   "source": [
    "central_df = get_csv('00_central')\n",
    "distributed_v_df = get_csv('01_distributed_learners_v')\n",
    "distributed_q_df = get_csv('02_distributed_learners_q')\n",
    "independent_df = get_csv('02_independent_learners')\n",
    "consensus_df = get_csv('03_consensus_learners')\n",
    "\n",
    "dataframes = []\n",
    "dataframes.append(describe(central_df, label='Central'))\n",
    "dataframes.append(describe(distributed_v_df, label='Distributed V'))\n",
    "dataframes.append(describe(distributed_q_df, label='Distributed Q'))\n",
    "dataframes.append(describe(independent_df, label='Independent'))\n",
    "dataframes.append(describe(consensus_df, label='Consensus 0'))\n",
    "noregdf = pd.concat(dataframes, axis=1)\n",
    "noregdf"
   ]
  },
  {
   "cell_type": "markdown",
   "id": "164a01c1",
   "metadata": {},
   "source": [
    "## Quad Task\n",
    "\n",
    "* Early stopping\n",
    "* No coefficient scaling."
   ]
  },
  {
   "cell_type": "code",
   "execution_count": 18,
   "id": "a3d3bd37",
   "metadata": {},
   "outputs": [],
   "source": [
    "from pathlib import Path\n",
    "import pandas as pd\n",
    "BASE_PATH = '04_quad/'\n",
    "\n",
    "def get_path(x: str) -> str:\n",
    "    return (Path(BASE_PATH) / x / '02'/ 'pipeline-rollouts-summary.csv').as_posix()\n",
    "\n",
    "def get_csv(x: str) -> pd.DataFrame:\n",
    "    return pd.read_csv(get_path(x), sep=',', index_col=0)\n",
    " \n",
    "def describe(dataframe: pd.DataFrame, label: str) -> pd.DataFrame:\n",
    "    \"\"\"Describes the dataframe\n",
    "    \n",
    "    Parameters\n",
    "    ----------\n",
    "    dataframe: pd.DataFrame\n",
    "        A dataframe with description N independent rollouts.\n",
    "        Each consisting of M timesteps.\n",
    "        Trials are in the columns and rows are statistics.\n",
    "        The result of df.describe()\n",
    "   \n",
    "    Returns\n",
    "    -------\n",
    "    dataframe: pd.DataFrame\n",
    "        A description of the average return.\n",
    "    \n",
    "    \"\"\"\n",
    "    df = dataframe.drop(['std', 'count', '25%', '50%', '75%'], axis=0)\n",
    "    ts = df.T.describe()['mean']\n",
    "    ts.name = label\n",
    "    return ts.to_frame()"
   ]
  },
  {
   "cell_type": "markdown",
   "id": "34796fd4",
   "metadata": {},
   "source": [
    "## QUAD Leaderboard\n",
    "\n",
    "* Early stopping\n",
    "* No coefficient scaling."
   ]
  },
  {
   "cell_type": "code",
   "execution_count": 20,
   "id": "e5604b3f",
   "metadata": {},
   "outputs": [
    {
     "data": {
      "text/html": [
       "<div>\n",
       "<style scoped>\n",
       "    .dataframe tbody tr th:only-of-type {\n",
       "        vertical-align: middle;\n",
       "    }\n",
       "\n",
       "    .dataframe tbody tr th {\n",
       "        vertical-align: top;\n",
       "    }\n",
       "\n",
       "    .dataframe thead th {\n",
       "        text-align: right;\n",
       "    }\n",
       "</style>\n",
       "<table border=\"1\" class=\"dataframe\">\n",
       "  <thead>\n",
       "    <tr style=\"text-align: right;\">\n",
       "      <th></th>\n",
       "      <th>Central</th>\n",
       "      <th>Distributed V</th>\n",
       "      <th>Distributed Q</th>\n",
       "      <th>Independent</th>\n",
       "      <th>Consensus 0</th>\n",
       "    </tr>\n",
       "  </thead>\n",
       "  <tbody>\n",
       "    <tr>\n",
       "      <th>count</th>\n",
       "      <td>10.000000</td>\n",
       "      <td>10.000000</td>\n",
       "      <td>10.000000</td>\n",
       "      <td>10.000000</td>\n",
       "      <td>10.000000</td>\n",
       "    </tr>\n",
       "    <tr>\n",
       "      <th>mean</th>\n",
       "      <td>-0.999785</td>\n",
       "      <td>-1.202841</td>\n",
       "      <td>-1.346527</td>\n",
       "      <td>-0.898729</td>\n",
       "      <td>-1.113835</td>\n",
       "    </tr>\n",
       "    <tr>\n",
       "      <th>std</th>\n",
       "      <td>0.105818</td>\n",
       "      <td>0.293588</td>\n",
       "      <td>0.222723</td>\n",
       "      <td>0.141983</td>\n",
       "      <td>0.334524</td>\n",
       "    </tr>\n",
       "    <tr>\n",
       "      <th>min</th>\n",
       "      <td>-1.121593</td>\n",
       "      <td>-1.691129</td>\n",
       "      <td>-1.663331</td>\n",
       "      <td>-1.138658</td>\n",
       "      <td>-1.832741</td>\n",
       "    </tr>\n",
       "    <tr>\n",
       "      <th>25%</th>\n",
       "      <td>-1.075238</td>\n",
       "      <td>-1.404511</td>\n",
       "      <td>-1.488415</td>\n",
       "      <td>-0.987145</td>\n",
       "      <td>-1.272360</td>\n",
       "    </tr>\n",
       "    <tr>\n",
       "      <th>50%</th>\n",
       "      <td>-1.035690</td>\n",
       "      <td>-1.265410</td>\n",
       "      <td>-1.359544</td>\n",
       "      <td>-0.846095</td>\n",
       "      <td>-1.087233</td>\n",
       "    </tr>\n",
       "    <tr>\n",
       "      <th>75%</th>\n",
       "      <td>-0.940431</td>\n",
       "      <td>-0.999014</td>\n",
       "      <td>-1.194768</td>\n",
       "      <td>-0.826522</td>\n",
       "      <td>-0.911867</td>\n",
       "    </tr>\n",
       "    <tr>\n",
       "      <th>max</th>\n",
       "      <td>-0.785622</td>\n",
       "      <td>-0.788020</td>\n",
       "      <td>-0.927434</td>\n",
       "      <td>-0.677085</td>\n",
       "      <td>-0.689357</td>\n",
       "    </tr>\n",
       "  </tbody>\n",
       "</table>\n",
       "</div>"
      ],
      "text/plain": [
       "         Central  Distributed V  Distributed Q  Independent  Consensus 0\n",
       "count  10.000000      10.000000      10.000000    10.000000    10.000000\n",
       "mean   -0.999785      -1.202841      -1.346527    -0.898729    -1.113835\n",
       "std     0.105818       0.293588       0.222723     0.141983     0.334524\n",
       "min    -1.121593      -1.691129      -1.663331    -1.138658    -1.832741\n",
       "25%    -1.075238      -1.404511      -1.488415    -0.987145    -1.272360\n",
       "50%    -1.035690      -1.265410      -1.359544    -0.846095    -1.087233\n",
       "75%    -0.940431      -0.999014      -1.194768    -0.826522    -0.911867\n",
       "max    -0.785622      -0.788020      -0.927434    -0.677085    -0.689357"
      ]
     },
     "execution_count": 20,
     "metadata": {},
     "output_type": "execute_result"
    }
   ],
   "source": [
    "central_df = get_csv('00_central')\n",
    "distributed_v_df = get_csv('01_distributed_learners_v')\n",
    "distributed_q_df = get_csv('02_distributed_learners_q')\n",
    "independent_df = get_csv('03_independent_learners')\n",
    "consensus_df = get_csv('04_consensus_learners')\n",
    "\n",
    "dataframes = []\n",
    "dataframes.append(describe(central_df, label='Central'))\n",
    "dataframes.append(describe(distributed_v_df, label='Distributed V'))\n",
    "dataframes.append(describe(distributed_q_df, label='Distributed Q'))\n",
    "dataframes.append(describe(independent_df, label='Independent'))\n",
    "dataframes.append(describe(consensus_df, label='Consensus 0'))\n",
    "noregdf = pd.concat(dataframes, axis=1)\n",
    "noregdf"
   ]
  },
  {
   "cell_type": "markdown",
   "id": "79b4fa2a",
   "metadata": {},
   "source": [
    "# SECTION B\n",
    "\n",
    "* Early stopping\n",
    "* Reward rescaling $f_i$\n",
    "\n",
    "$$ f_i \\sim Uniform(0, 2) \\forall i \\in \\mathcal{N} $$"
   ]
  },
  {
   "cell_type": "markdown",
   "id": "a0d03f57",
   "metadata": {},
   "source": [
    "## B.1 Duo Task\n"
   ]
  },
  {
   "cell_type": "code",
   "execution_count": 29,
   "id": "3aa39b96",
   "metadata": {},
   "outputs": [],
   "source": [
    "from pathlib import Path\n",
    "import pandas as pd\n",
    "BASE_PATH = '07_duo_randomized_coefficents/'\n",
    "\n",
    "def get_path(x: str) -> str:\n",
    "    return (Path(BASE_PATH) / x / '02'/ 'pipeline-rollouts-summary.csv').as_posix()\n",
    "\n",
    "def get_csv(x: str) -> pd.DataFrame:\n",
    "    return pd.read_csv(get_path(x), sep=',', index_col=0)\n",
    " \n",
    "def describe(dataframe: pd.DataFrame, label: str) -> pd.DataFrame:\n",
    "    \"\"\"Describes the dataframe\n",
    "    \n",
    "    Parameters\n",
    "    ----------\n",
    "    dataframe: pd.DataFrame\n",
    "        A dataframe with description N independent rollouts.\n",
    "        Each consisting of M timesteps.\n",
    "        Trials are in the columns and rows are statistics.\n",
    "        The result of df.describe()\n",
    "   \n",
    "    Returns\n",
    "    -------\n",
    "    dataframe: pd.DataFrame\n",
    "        A description of the average return.\n",
    "    \n",
    "    \"\"\"\n",
    "    df = dataframe.drop(['std', 'count', '25%', '50%', '75%'], axis=0)\n",
    "    ts = df.T.describe()['mean']\n",
    "    ts.name = label\n",
    "    return ts.to_frame()\n"
   ]
  },
  {
   "cell_type": "markdown",
   "id": "d0224a63",
   "metadata": {},
   "source": [
    "## LEADERBOARD DUO\n",
    "\n",
    "* Early stopping\n",
    "* Reward rescaling $f_i$\n",
    "\n",
    "$$ f_i \\sim Uniform(0, 2) \\forall i \\in \\mathcal{N} $$"
   ]
  },
  {
   "cell_type": "code",
   "execution_count": 27,
   "id": "dfe6e82f",
   "metadata": {},
   "outputs": [
    {
     "data": {
      "text/html": [
       "<div>\n",
       "<style scoped>\n",
       "    .dataframe tbody tr th:only-of-type {\n",
       "        vertical-align: middle;\n",
       "    }\n",
       "\n",
       "    .dataframe tbody tr th {\n",
       "        vertical-align: top;\n",
       "    }\n",
       "\n",
       "    .dataframe thead th {\n",
       "        text-align: right;\n",
       "    }\n",
       "</style>\n",
       "<table border=\"1\" class=\"dataframe\">\n",
       "  <thead>\n",
       "    <tr style=\"text-align: right;\">\n",
       "      <th></th>\n",
       "      <th>Central</th>\n",
       "      <th>Distributed V</th>\n",
       "      <th>Distributed Q</th>\n",
       "      <th>Independent</th>\n",
       "      <th>Consensus 0</th>\n",
       "    </tr>\n",
       "  </thead>\n",
       "  <tbody>\n",
       "    <tr>\n",
       "      <th>count</th>\n",
       "      <td>30.000000</td>\n",
       "      <td>30.000000</td>\n",
       "      <td>30.000000</td>\n",
       "      <td>30.000000</td>\n",
       "      <td>30.000000</td>\n",
       "    </tr>\n",
       "    <tr>\n",
       "      <th>mean</th>\n",
       "      <td>-1.403916</td>\n",
       "      <td>-1.429249</td>\n",
       "      <td>-0.903701</td>\n",
       "      <td>-1.470705</td>\n",
       "      <td>-0.969636</td>\n",
       "    </tr>\n",
       "    <tr>\n",
       "      <th>std</th>\n",
       "      <td>0.565535</td>\n",
       "      <td>0.698775</td>\n",
       "      <td>0.508968</td>\n",
       "      <td>0.684714</td>\n",
       "      <td>0.431333</td>\n",
       "    </tr>\n",
       "    <tr>\n",
       "      <th>min</th>\n",
       "      <td>-2.605342</td>\n",
       "      <td>-3.436503</td>\n",
       "      <td>-2.389786</td>\n",
       "      <td>-3.436503</td>\n",
       "      <td>-2.144912</td>\n",
       "    </tr>\n",
       "    <tr>\n",
       "      <th>25%</th>\n",
       "      <td>-1.809053</td>\n",
       "      <td>-1.839780</td>\n",
       "      <td>-1.055850</td>\n",
       "      <td>-1.894029</td>\n",
       "      <td>-1.200654</td>\n",
       "    </tr>\n",
       "    <tr>\n",
       "      <th>50%</th>\n",
       "      <td>-1.399229</td>\n",
       "      <td>-1.456981</td>\n",
       "      <td>-0.761560</td>\n",
       "      <td>-1.500466</td>\n",
       "      <td>-0.910706</td>\n",
       "    </tr>\n",
       "    <tr>\n",
       "      <th>75%</th>\n",
       "      <td>-0.929730</td>\n",
       "      <td>-0.890952</td>\n",
       "      <td>-0.605911</td>\n",
       "      <td>-0.964114</td>\n",
       "      <td>-0.654680</td>\n",
       "    </tr>\n",
       "    <tr>\n",
       "      <th>max</th>\n",
       "      <td>-0.470724</td>\n",
       "      <td>-0.270314</td>\n",
       "      <td>-0.326420</td>\n",
       "      <td>-0.254735</td>\n",
       "      <td>-0.316584</td>\n",
       "    </tr>\n",
       "  </tbody>\n",
       "</table>\n",
       "</div>"
      ],
      "text/plain": [
       "         Central  Distributed V  Distributed Q  Independent  Consensus 0\n",
       "count  30.000000      30.000000      30.000000    30.000000    30.000000\n",
       "mean   -1.403916      -1.429249      -0.903701    -1.470705    -0.969636\n",
       "std     0.565535       0.698775       0.508968     0.684714     0.431333\n",
       "min    -2.605342      -3.436503      -2.389786    -3.436503    -2.144912\n",
       "25%    -1.809053      -1.839780      -1.055850    -1.894029    -1.200654\n",
       "50%    -1.399229      -1.456981      -0.761560    -1.500466    -0.910706\n",
       "75%    -0.929730      -0.890952      -0.605911    -0.964114    -0.654680\n",
       "max    -0.470724      -0.270314      -0.326420    -0.254735    -0.316584"
      ]
     },
     "execution_count": 27,
     "metadata": {},
     "output_type": "execute_result"
    }
   ],
   "source": [
    "central_df = get_csv('00_central')\n",
    "distributed_v_df = get_csv('01_distributed_learners_v')\n",
    "distributed_q_df = get_csv('02_distributed_learners_q')\n",
    "independent_df = get_csv('03_independent_learners')\n",
    "consensus_df = get_csv('04_consensus_learners')\n",
    "\n",
    "dataframes = []\n",
    "dataframes.append(describe(central_df, label='Central'))\n",
    "dataframes.append(describe(distributed_v_df, label='Distributed V'))\n",
    "dataframes.append(describe(distributed_q_df, label='Distributed Q'))\n",
    "dataframes.append(describe(independent_df, label='Independent'))\n",
    "dataframes.append(describe(consensus_df, label='Consensus 0'))\n",
    "noregdf = pd.concat(dataframes, axis=1)\n",
    "noregdf"
   ]
  },
  {
   "cell_type": "markdown",
   "id": "7cce4bae",
   "metadata": {},
   "source": [
    "## B.2 Task Trio"
   ]
  },
  {
   "cell_type": "code",
   "execution_count": 37,
   "id": "e5618104",
   "metadata": {},
   "outputs": [],
   "source": [
    "from pathlib import Path\n",
    "import pandas as pd\n",
    "BASE_PATH = '05_trio_randomized_coefficents/'\n",
    "\n",
    "def get_path(x: str) -> str:\n",
    "    return (Path(BASE_PATH) / x / '02'/ 'pipeline-rollouts-summary.csv').as_posix()\n",
    "\n",
    "def get_csv(x: str) -> pd.DataFrame:\n",
    "    return pd.read_csv(get_path(x), sep=',', index_col=0)\n",
    " \n",
    "def describe(dataframe: pd.DataFrame, label: str) -> pd.DataFrame:\n",
    "    \"\"\"Describes the dataframe\n",
    "    \n",
    "    Parameters\n",
    "    ----------\n",
    "    dataframe: pd.DataFrame\n",
    "        A dataframe with description N independent rollouts.\n",
    "        Each consisting of M timesteps.\n",
    "        Trials are in the columns and rows are statistics.\n",
    "        The result of df.describe()\n",
    "   \n",
    "    Returns\n",
    "    -------\n",
    "    dataframe: pd.DataFrame\n",
    "        A description of the average return.\n",
    "    \n",
    "    \"\"\"\n",
    "    df = dataframe.drop(['std', 'count', '25%', '50%', '75%'], axis=0)\n",
    "    ts = df.T.describe()['mean']\n",
    "    ts.name = label\n",
    "    return ts.to_frame()\n"
   ]
  },
  {
   "cell_type": "markdown",
   "id": "cf4a67e2",
   "metadata": {},
   "source": [
    "## B.2 LEADERBOARD TRIO\n",
    "\n",
    "* Early stopping\n",
    "* Reward rescaling $f_i$\n",
    "\n",
    "$$ f_i \\sim Uniform(0, 2) \\forall i \\in \\mathcal{N} $$"
   ]
  },
  {
   "cell_type": "code",
   "execution_count": 38,
   "id": "4420ba24",
   "metadata": {},
   "outputs": [
    {
     "data": {
      "text/html": [
       "<div>\n",
       "<style scoped>\n",
       "    .dataframe tbody tr th:only-of-type {\n",
       "        vertical-align: middle;\n",
       "    }\n",
       "\n",
       "    .dataframe tbody tr th {\n",
       "        vertical-align: top;\n",
       "    }\n",
       "\n",
       "    .dataframe thead th {\n",
       "        text-align: right;\n",
       "    }\n",
       "</style>\n",
       "<table border=\"1\" class=\"dataframe\">\n",
       "  <thead>\n",
       "    <tr style=\"text-align: right;\">\n",
       "      <th></th>\n",
       "      <th>Central</th>\n",
       "      <th>Distributed V</th>\n",
       "      <th>Distributed Q</th>\n",
       "      <th>Independent</th>\n",
       "      <th>Consensus 0</th>\n",
       "    </tr>\n",
       "  </thead>\n",
       "  <tbody>\n",
       "    <tr>\n",
       "      <th>count</th>\n",
       "      <td>30.000000</td>\n",
       "      <td>30.000000</td>\n",
       "      <td>30.000000</td>\n",
       "      <td>30.000000</td>\n",
       "      <td>30.000000</td>\n",
       "    </tr>\n",
       "    <tr>\n",
       "      <th>mean</th>\n",
       "      <td>-1.288160</td>\n",
       "      <td>-1.504116</td>\n",
       "      <td>-1.365961</td>\n",
       "      <td>-1.508202</td>\n",
       "      <td>-1.021835</td>\n",
       "    </tr>\n",
       "    <tr>\n",
       "      <th>std</th>\n",
       "      <td>0.622926</td>\n",
       "      <td>0.643330</td>\n",
       "      <td>0.609930</td>\n",
       "      <td>0.637757</td>\n",
       "      <td>0.438259</td>\n",
       "    </tr>\n",
       "    <tr>\n",
       "      <th>min</th>\n",
       "      <td>-2.680361</td>\n",
       "      <td>-2.994706</td>\n",
       "      <td>-2.634458</td>\n",
       "      <td>-2.825317</td>\n",
       "      <td>-1.854005</td>\n",
       "    </tr>\n",
       "    <tr>\n",
       "      <th>25%</th>\n",
       "      <td>-1.648791</td>\n",
       "      <td>-1.771450</td>\n",
       "      <td>-1.698431</td>\n",
       "      <td>-1.773059</td>\n",
       "      <td>-1.270762</td>\n",
       "    </tr>\n",
       "    <tr>\n",
       "      <th>50%</th>\n",
       "      <td>-1.141395</td>\n",
       "      <td>-1.453467</td>\n",
       "      <td>-1.280058</td>\n",
       "      <td>-1.475281</td>\n",
       "      <td>-0.968021</td>\n",
       "    </tr>\n",
       "    <tr>\n",
       "      <th>75%</th>\n",
       "      <td>-0.782975</td>\n",
       "      <td>-1.047223</td>\n",
       "      <td>-0.956650</td>\n",
       "      <td>-1.071623</td>\n",
       "      <td>-0.762515</td>\n",
       "    </tr>\n",
       "    <tr>\n",
       "      <th>max</th>\n",
       "      <td>-0.255115</td>\n",
       "      <td>-0.312756</td>\n",
       "      <td>-0.342898</td>\n",
       "      <td>-0.266580</td>\n",
       "      <td>-0.155101</td>\n",
       "    </tr>\n",
       "  </tbody>\n",
       "</table>\n",
       "</div>"
      ],
      "text/plain": [
       "         Central  Distributed V  Distributed Q  Independent  Consensus 0\n",
       "count  30.000000      30.000000      30.000000    30.000000    30.000000\n",
       "mean   -1.288160      -1.504116      -1.365961    -1.508202    -1.021835\n",
       "std     0.622926       0.643330       0.609930     0.637757     0.438259\n",
       "min    -2.680361      -2.994706      -2.634458    -2.825317    -1.854005\n",
       "25%    -1.648791      -1.771450      -1.698431    -1.773059    -1.270762\n",
       "50%    -1.141395      -1.453467      -1.280058    -1.475281    -0.968021\n",
       "75%    -0.782975      -1.047223      -0.956650    -1.071623    -0.762515\n",
       "max    -0.255115      -0.312756      -0.342898    -0.266580    -0.155101"
      ]
     },
     "execution_count": 38,
     "metadata": {},
     "output_type": "execute_result"
    }
   ],
   "source": [
    "central_df = get_csv('00_central')\n",
    "distributed_v_df = get_csv('01_distributed_learners_v')\n",
    "distributed_q_df = get_csv('02_distributed_learners_q')\n",
    "independent_df = get_csv('03_independent_learners')\n",
    "consensus_df = get_csv('04_consensus_learners')\n",
    "\n",
    "dataframes = []\n",
    "dataframes.append(describe(central_df, label='Central'))\n",
    "dataframes.append(describe(distributed_v_df, label='Distributed V'))\n",
    "dataframes.append(describe(distributed_q_df, label='Distributed Q'))\n",
    "dataframes.append(describe(independent_df, label='Independent'))\n",
    "dataframes.append(describe(consensus_df, label='Consensus 0'))\n",
    "noregdf = pd.concat(dataframes, axis=1)\n",
    "noregdf"
   ]
  },
  {
   "cell_type": "markdown",
   "id": "c2d18dfd",
   "metadata": {},
   "source": [
    "## B.3 Task Quad"
   ]
  },
  {
   "cell_type": "code",
   "execution_count": 41,
   "id": "857ee504",
   "metadata": {},
   "outputs": [],
   "source": [
    "from pathlib import Path\n",
    "import pandas as pd\n",
    "BASE_PATH = '08_quad_randomized_coefficents'\n",
    "\n",
    "def get_path(x: str) -> str:\n",
    "    return (Path(BASE_PATH) / x / '02'/ 'pipeline-rollouts-summary.csv').as_posix()\n",
    "\n",
    "def get_csv(x: str) -> pd.DataFrame:\n",
    "    return pd.read_csv(get_path(x), sep=',', index_col=0)\n",
    " \n",
    "def describe(dataframe: pd.DataFrame, label: str) -> pd.DataFrame:\n",
    "    \"\"\"Describes the dataframe\n",
    "    \n",
    "    Parameters\n",
    "    ----------\n",
    "    dataframe: pd.DataFrame\n",
    "        A dataframe with description N independent rollouts.\n",
    "        Each consisting of M timesteps.\n",
    "        Trials are in the columns and rows are statistics.\n",
    "        The result of df.describe()\n",
    "   \n",
    "    Returns\n",
    "    -------\n",
    "    dataframe: pd.DataFrame\n",
    "        A description of the average return.\n",
    "    \n",
    "    \"\"\"\n",
    "    df = dataframe.drop(['std', 'count', '25%', '50%', '75%'], axis=0)\n",
    "    ts = df.T.describe()['mean']\n",
    "    ts.name = label\n",
    "    return ts.to_frame()\n"
   ]
  },
  {
   "cell_type": "markdown",
   "id": "63d3c061",
   "metadata": {},
   "source": [
    "## LEADERBOARD QUAD\n",
    "\n",
    "* Early stopping\n",
    "* Reward rescaling $f_i$\n",
    "\n",
    "$$ f_i \\sim Uniform(0, 2) \\forall i \\in \\mathcal{N} $$"
   ]
  },
  {
   "cell_type": "code",
   "execution_count": 36,
   "id": "aa05c071",
   "metadata": {},
   "outputs": [
    {
     "data": {
      "text/html": [
       "<div>\n",
       "<style scoped>\n",
       "    .dataframe tbody tr th:only-of-type {\n",
       "        vertical-align: middle;\n",
       "    }\n",
       "\n",
       "    .dataframe tbody tr th {\n",
       "        vertical-align: top;\n",
       "    }\n",
       "\n",
       "    .dataframe thead th {\n",
       "        text-align: right;\n",
       "    }\n",
       "</style>\n",
       "<table border=\"1\" class=\"dataframe\">\n",
       "  <thead>\n",
       "    <tr style=\"text-align: right;\">\n",
       "      <th></th>\n",
       "      <th>Central</th>\n",
       "      <th>Distributed V</th>\n",
       "      <th>Distributed Q</th>\n",
       "      <th>Independent</th>\n",
       "      <th>Consensus 0</th>\n",
       "    </tr>\n",
       "  </thead>\n",
       "  <tbody>\n",
       "    <tr>\n",
       "      <th>count</th>\n",
       "      <td>10.000000</td>\n",
       "      <td>10.000000</td>\n",
       "      <td>10.000000</td>\n",
       "      <td>10.000000</td>\n",
       "      <td>10.000000</td>\n",
       "    </tr>\n",
       "    <tr>\n",
       "      <th>mean</th>\n",
       "      <td>-0.982042</td>\n",
       "      <td>-1.412348</td>\n",
       "      <td>-1.467131</td>\n",
       "      <td>-1.425404</td>\n",
       "      <td>-0.968090</td>\n",
       "    </tr>\n",
       "    <tr>\n",
       "      <th>std</th>\n",
       "      <td>0.290584</td>\n",
       "      <td>0.489271</td>\n",
       "      <td>0.538444</td>\n",
       "      <td>0.531782</td>\n",
       "      <td>0.267456</td>\n",
       "    </tr>\n",
       "    <tr>\n",
       "      <th>min</th>\n",
       "      <td>-1.423834</td>\n",
       "      <td>-2.024315</td>\n",
       "      <td>-2.095151</td>\n",
       "      <td>-2.037541</td>\n",
       "      <td>-1.448825</td>\n",
       "    </tr>\n",
       "    <tr>\n",
       "      <th>25%</th>\n",
       "      <td>-1.112613</td>\n",
       "      <td>-1.752482</td>\n",
       "      <td>-1.939095</td>\n",
       "      <td>-1.833037</td>\n",
       "      <td>-1.121231</td>\n",
       "    </tr>\n",
       "    <tr>\n",
       "      <th>50%</th>\n",
       "      <td>-1.014786</td>\n",
       "      <td>-1.453449</td>\n",
       "      <td>-1.572320</td>\n",
       "      <td>-1.560807</td>\n",
       "      <td>-0.989618</td>\n",
       "    </tr>\n",
       "    <tr>\n",
       "      <th>75%</th>\n",
       "      <td>-0.969550</td>\n",
       "      <td>-1.174566</td>\n",
       "      <td>-1.171600</td>\n",
       "      <td>-0.993946</td>\n",
       "      <td>-0.764772</td>\n",
       "    </tr>\n",
       "    <tr>\n",
       "      <th>max</th>\n",
       "      <td>-0.474436</td>\n",
       "      <td>-0.624698</td>\n",
       "      <td>-0.604232</td>\n",
       "      <td>-0.624803</td>\n",
       "      <td>-0.571708</td>\n",
       "    </tr>\n",
       "  </tbody>\n",
       "</table>\n",
       "</div>"
      ],
      "text/plain": [
       "         Central  Distributed V  Distributed Q  Independent  Consensus 0\n",
       "count  10.000000      10.000000      10.000000    10.000000    10.000000\n",
       "mean   -0.982042      -1.412348      -1.467131    -1.425404    -0.968090\n",
       "std     0.290584       0.489271       0.538444     0.531782     0.267456\n",
       "min    -1.423834      -2.024315      -2.095151    -2.037541    -1.448825\n",
       "25%    -1.112613      -1.752482      -1.939095    -1.833037    -1.121231\n",
       "50%    -1.014786      -1.453449      -1.572320    -1.560807    -0.989618\n",
       "75%    -0.969550      -1.174566      -1.171600    -0.993946    -0.764772\n",
       "max    -0.474436      -0.624698      -0.604232    -0.624803    -0.571708"
      ]
     },
     "execution_count": 36,
     "metadata": {},
     "output_type": "execute_result"
    }
   ],
   "source": [
    "central_df = get_csv('00_central')\n",
    "distributed_v_df = get_csv('01_distributed_learners_v')\n",
    "distributed_q_df = get_csv('02_distributed_learners_q')\n",
    "independent_df = get_csv('03_independent_learners')\n",
    "consensus_df = get_csv('04_consensus_learners')\n",
    "\n",
    "dataframes = []\n",
    "dataframes.append(describe(central_df, label='Central'))\n",
    "dataframes.append(describe(distributed_v_df, label='Distributed V'))\n",
    "dataframes.append(describe(distributed_q_df, label='Distributed Q'))\n",
    "dataframes.append(describe(independent_df, label='Independent'))\n",
    "dataframes.append(describe(consensus_df, label='Consensus 0'))\n",
    "noregdf = pd.concat(dataframes, axis=1)\n",
    "noregdf"
   ]
  },
  {
   "cell_type": "markdown",
   "id": "7c918cff",
   "metadata": {},
   "source": [
    "# SECTION C\n",
    "\n",
    "* Simulations from section B.3"
   ]
  },
  {
   "cell_type": "markdown",
   "id": "cc2ebcbe",
   "metadata": {},
   "source": [
    "## C.1) Central Agent"
   ]
  },
  {
   "cell_type": "markdown",
   "id": "e11bc8cf",
   "metadata": {},
   "source": [
    "BASE_PATH = '08_quad_randomized_coefficents/00_central/02'\n",
    "\n",
    "### C.1.1 Rollout Simulation\n",
    "\n",
    "GIF from the best performing training.\n",
    "\n",
    "![pipeline-central-simulation](08_quad_randomized_coefficents/00_central/02/simulation-pipeline-best.gif)"
   ]
  },
  {
   "cell_type": "markdown",
   "id": "6e2ee08b",
   "metadata": {},
   "source": [
    "### C.1.2 Rollout Graph\n",
    "\n",
    "\n",
    "![pipeline-central-simulation](08_quad_randomized_coefficents/00_central/02/evaluation_rollout_n4_num01.png)"
   ]
  },
  {
   "cell_type": "code",
   "execution_count": 43,
   "id": "37bce869",
   "metadata": {},
   "outputs": [
    {
     "data": {
      "text/plain": [
       "Unnamed: 0    4950.000000\n",
       "1              -47.443596\n",
       "dtype: float64"
      ]
     },
     "execution_count": 43,
     "metadata": {},
     "output_type": "execute_result"
    }
   ],
   "source": [
    "df = pd.read_csv('08_quad_randomized_coefficents/00_central/02/evaluation_rollout-num01.csv', sep=',')\n",
    "df.sum()"
   ]
  },
  {
   "cell_type": "markdown",
   "id": "1d7d4c57",
   "metadata": {},
   "source": [
    "### C.1.3 Train<a name=\"A-1.3\"></a> \n",
    "\n",
    "\n",
    "\n",
    "![pipeline-central-train-30](08_quad_randomized_coefficents/00_central/02/train_pipeline_m10.png)\n",
    "![rollout-central-train-30](08_quad_randomized_coefficents/00_central/02/train_rollout_m10.png)"
   ]
  },
  {
   "cell_type": "markdown",
   "id": "590d0438",
   "metadata": {},
   "source": [
    "### C.1.4 Collision "
   ]
  },
  {
   "cell_type": "code",
   "execution_count": 44,
   "id": "49fae014",
   "metadata": {},
   "outputs": [
    {
     "data": {
      "text/plain": [
       "<AxesSubplot:title={'center':'Collisions per Episode'}, xlabel='episode'>"
      ]
     },
     "execution_count": 44,
     "metadata": {},
     "output_type": "execute_result"
    },
    {
     "data": {
      "image/png": "[encoded data removed]",
      "text/plain": [
       "<Figure size 864x360 with 1 Axes>"
      ]
     },
     "metadata": {
      "needs_background": "light"
     },
     "output_type": "display_data"
    }
   ],
   "source": [
    "FIG_SIZE_LARGE = (12.0, 5.0)\n",
    "FIG_SIZE_SMALL = (6.0, 4.0)\n",
    "import pandas as pd\n",
    "BASE_PATH = '08_quad_randomized_coefficents/00_central/02'\n",
    "df = pd.read_csv(BASE_PATH + '/pipeline-train-collisions.csv', sep=',', index_col=0)\n",
    "df['episode'] = df.index // 100\n",
    "df = df.set_index('episode', inplace=False, drop=True)\n",
    "df = df.sum(axis=1).to_frame().rename(columns={0: 'collisions'})\n",
    "df = df.groupby(by='episode', axis=0)['collisions'].sum()\n",
    "df.to_frame().loc[:, 'collisions'].plot(title='Collisions per Episode', figsize=FIG_SIZE_LARGE)"
   ]
  },
  {
   "cell_type": "markdown",
   "id": "5ca54952",
   "metadata": {},
   "source": [
    "### C.1.5 Coupling"
   ]
  },
  {
   "cell_type": "code",
   "execution_count": 45,
   "id": "8b2f7063",
   "metadata": {},
   "outputs": [
    {
     "data": {
      "text/plain": [
       "<AxesSubplot:title={'center':'Couplings per Episode'}, xlabel='episode'>"
      ]
     },
     "execution_count": 45,
     "metadata": {},
     "output_type": "execute_result"
    },
    {
     "data": {
      "image/png": "[encoded data removed]",
      "text/plain": [
       "<Figure size 864x360 with 1 Axes>"
      ]
     },
     "metadata": {
      "needs_background": "light"
     },
     "output_type": "display_data"
    }
   ],
   "source": [
    "BASE_PATH = '08_quad_randomized_coefficents/00_central/02'\n",
    "df = pd.read_csv(BASE_PATH + '/pipeline-train-couplings.csv', sep=',', index_col=0)\n",
    "df['episode'] = df.index // 100\n",
    "df = df.set_index('episode', inplace=False, drop=True)\n",
    "df = df.sum(axis=1).to_frame().rename(columns={0: 'couplings'})\n",
    "df = df.groupby(by='episode', axis=0)['couplings'].sum()\n",
    "df.to_frame().loc[:, 'couplings'].plot(title='Couplings per Episode', figsize=FIG_SIZE_LARGE)"
   ]
  },
  {
   "cell_type": "markdown",
   "id": "5e48c6c7",
   "metadata": {},
   "source": [
    "## 2) Distributed Actor Critic V\n",
    "\n",
    "\n",
    "BASE_PATH = '08_quad_randomized_coefficents/01_distributed_learners_v/02'\n",
    "\n",
    "### C.2.1 Rollout Simulation\n",
    "\n",
    "GIF from the best performing training.\n",
    "\n",
    "![pipeline-distributed-simulation](08_quad_randomized_coefficents/01_distributed_learners_v/02/simulation-pipeline-best.gif)"
   ]
  },
  {
   "cell_type": "markdown",
   "id": "0afa7c39",
   "metadata": {},
   "source": [
    "### C.2.2 Rollout Graph\n",
    "\n",
    "\n",
    "![pipeline-distributed-rollout](08_quad_randomized_coefficents/01_distributed_learners_v/02/evaluation_rollout_n4_num08.png)"
   ]
  },
  {
   "cell_type": "code",
   "execution_count": 46,
   "id": "c04e264d",
   "metadata": {},
   "outputs": [
    {
     "data": {
      "text/plain": [
       "Unnamed: 0    4950.000000\n",
       "1              -62.469815\n",
       "dtype: float64"
      ]
     },
     "execution_count": 46,
     "metadata": {},
     "output_type": "execute_result"
    }
   ],
   "source": [
    "df = pd.read_csv('08_quad_randomized_coefficents/01_distributed_learners_v/02/evaluation_rollout-num08.csv', sep=',')\n",
    "df.sum()"
   ]
  },
  {
   "cell_type": "markdown",
   "id": "2b40213c",
   "metadata": {},
   "source": [
    "### C.2.3 Train<a name=\"A-2.3\"></a> \n",
    "\n",
    "\n",
    "\n",
    "![pipeline-distributed-train-30](08_quad_randomized_coefficents/01_distributed_learners_v/02/train_pipeline_m10.png)\n",
    "![rollout-distributed-train-30](08_quad_randomized_coefficents/01_distributed_learners_v/02/train_rollout_m10.png)"
   ]
  },
  {
   "cell_type": "markdown",
   "id": "4e372264",
   "metadata": {},
   "source": [
    "### C.2.4 Collision "
   ]
  },
  {
   "cell_type": "code",
   "execution_count": 49,
   "id": "00dc6f20",
   "metadata": {},
   "outputs": [
    {
     "data": {
      "text/plain": [
       "<AxesSubplot:title={'center':'Collisions per Episode'}, xlabel='episode'>"
      ]
     },
     "execution_count": 49,
     "metadata": {},
     "output_type": "execute_result"
    },
    {
     "data": {
      "image/png": "[encoded data removed]",
      "text/plain": [
       "<Figure size 864x360 with 1 Axes>"
      ]
     },
     "metadata": {
      "needs_background": "light"
     },
     "output_type": "display_data"
    }
   ],
   "source": [
    "FIG_SIZE_LARGE = (12.0, 5.0)\n",
    "FIG_SIZE_SMALL = (6.0, 4.0)\n",
    "import pandas as pd\n",
    "BASE_PATH = '08_quad_randomized_coefficents/01_distributed_learners_v/02/'\n",
    "df = pd.read_csv(BASE_PATH + '/pipeline-train-collisions.csv', sep=',', index_col=0)\n",
    "df['episode'] = df.index // 100\n",
    "df = df.set_index('episode', inplace=False, drop=True)\n",
    "df = df.sum(axis=1).to_frame().rename(columns={0: 'collisions'})\n",
    "df = df.groupby(by='episode', axis=0)['collisions'].sum()\n",
    "df.to_frame().loc[:, 'collisions'].plot(title='Collisions per Episode', figsize=FIG_SIZE_LARGE)"
   ]
  },
  {
   "cell_type": "markdown",
   "id": "d83104c8",
   "metadata": {},
   "source": [
    "### C.2.5 Coupling"
   ]
  },
  {
   "cell_type": "code",
   "execution_count": 50,
   "id": "d9fc02c4",
   "metadata": {},
   "outputs": [
    {
     "data": {
      "text/plain": [
       "<AxesSubplot:title={'center':'Couplings per Episode'}, xlabel='episode'>"
      ]
     },
     "execution_count": 50,
     "metadata": {},
     "output_type": "execute_result"
    },
    {
     "data": {
      "image/png": "[encoded data removed]",
      "text/plain": [
       "<Figure size 864x360 with 1 Axes>"
      ]
     },
     "metadata": {
      "needs_background": "light"
     },
     "output_type": "display_data"
    }
   ],
   "source": [
    "BASE_PATH = '08_quad_randomized_coefficents/01_distributed_learners_v/02/'\n",
    "df = pd.read_csv(BASE_PATH + '/pipeline-train-couplings.csv', sep=',', index_col=0)\n",
    "df['episode'] = df.index // 100\n",
    "df = df.set_index('episode', inplace=False, drop=True)\n",
    "df = df.sum(axis=1).to_frame().rename(columns={0: 'couplings'})\n",
    "df = df.groupby(by='episode', axis=0)['couplings'].sum()\n",
    "df.to_frame().loc[:, 'couplings'].plot(title='Couplings per Episode', figsize=FIG_SIZE_LARGE)"
   ]
  },
  {
   "cell_type": "markdown",
   "id": "43cfa7e3",
   "metadata": {},
   "source": [
    "## 3) Distributed Actor Critic Q\n",
    "\n",
    "\n",
    "BASE_PATH = '08_quad_randomized_coefficents/02_distributed_learners_q/02'\n",
    "\n",
    "### C.3.1 Rollout Simulation\n",
    "\n",
    "GIF from the best performing training.\n",
    "\n",
    "![pipeline-distributed-simulation](08_quad_randomized_coefficents/02_distributed_learners_q/02/simulation-pipeline-best.gif)"
   ]
  },
  {
   "cell_type": "markdown",
   "id": "7bd97724",
   "metadata": {},
   "source": [
    "### C.3.2 Rollout Graph\n",
    "\n",
    "\n",
    "![pipeline-distributed-rollout](08_quad_randomized_coefficents/02_distributed_learners_q/02/evaluation_rollout_n4_num08.png)"
   ]
  },
  {
   "cell_type": "code",
   "execution_count": 51,
   "id": "0a1fcb19",
   "metadata": {},
   "outputs": [
    {
     "data": {
      "text/plain": [
       "Unnamed: 0    4950.000000\n",
       "1              -60.423168\n",
       "dtype: float64"
      ]
     },
     "execution_count": 51,
     "metadata": {},
     "output_type": "execute_result"
    }
   ],
   "source": [
    "df = pd.read_csv('08_quad_randomized_coefficents/02_distributed_learners_q/02/evaluation_rollout-num08.csv', sep=',')\n",
    "df.sum()"
   ]
  },
  {
   "cell_type": "markdown",
   "id": "76fa7d1d",
   "metadata": {},
   "source": [
    "### C.3.3 Train<a name=\"A-2.3\"></a> \n",
    "\n",
    "\n",
    "\n",
    "![pipeline-distributed-train-30](08_quad_randomized_coefficents/02_distributed_learners_q/02/train_pipeline_m10.png)\n",
    "![rollout-distributed-train-30](08_quad_randomized_coefficents/02_distributed_learners_q/02/train_rollout_m10.png)"
   ]
  },
  {
   "cell_type": "markdown",
   "id": "7a027613",
   "metadata": {},
   "source": [
    "### C.2.4 Collision "
   ]
  },
  {
   "cell_type": "code",
   "execution_count": 53,
   "id": "3bd6730d",
   "metadata": {},
   "outputs": [
    {
     "data": {
      "text/plain": [
       "<AxesSubplot:title={'center':'Collisions per Episode'}, xlabel='episode'>"
      ]
     },
     "execution_count": 53,
     "metadata": {},
     "output_type": "execute_result"
    },
    {
     "data": {
      "image/png": "[encoded data removed]",
      "text/plain": [
       "<Figure size 864x360 with 1 Axes>"
      ]
     },
     "metadata": {
      "needs_background": "light"
     },
     "output_type": "display_data"
    }
   ],
   "source": [
    "FIG_SIZE_LARGE = (12.0, 5.0)\n",
    "FIG_SIZE_SMALL = (6.0, 4.0)\n",
    "import pandas as pd\n",
    "BASE_PATH = '08_quad_randomized_coefficents/02_distributed_learners_q/02/'\n",
    "df = pd.read_csv(BASE_PATH + '/pipeline-train-collisions.csv', sep=',', index_col=0)\n",
    "df['episode'] = df.index // 100\n",
    "df = df.set_index('episode', inplace=False, drop=True)\n",
    "df = df.sum(axis=1).to_frame().rename(columns={0: 'collisions'})\n",
    "df = df.groupby(by='episode', axis=0)['collisions'].sum()\n",
    "df.to_frame().loc[:, 'collisions'].plot(title='Collisions per Episode', figsize=FIG_SIZE_LARGE)"
   ]
  },
  {
   "cell_type": "markdown",
   "id": "b17e6d93",
   "metadata": {},
   "source": [
    "### C.2.5 Coupling"
   ]
  },
  {
   "cell_type": "code",
   "execution_count": 54,
   "id": "b7a733b6",
   "metadata": {},
   "outputs": [
    {
     "data": {
      "text/plain": [
       "<AxesSubplot:title={'center':'Couplings per Episode'}, xlabel='episode'>"
      ]
     },
     "execution_count": 54,
     "metadata": {},
     "output_type": "execute_result"
    },
    {
     "data": {
      "image/png": "[encoded data removed]",
      "text/plain": [
       "<Figure size 864x360 with 1 Axes>"
      ]
     },
     "metadata": {
      "needs_background": "light"
     },
     "output_type": "display_data"
    }
   ],
   "source": [
    "BASE_PATH = '08_quad_randomized_coefficents/02_distributed_learners_q/02/'\n",
    "df = pd.read_csv(BASE_PATH + '/pipeline-train-couplings.csv', sep=',', index_col=0)\n",
    "df['episode'] = df.index // 100\n",
    "df = df.set_index('episode', inplace=False, drop=True)\n",
    "df = df.sum(axis=1).to_frame().rename(columns={0: 'couplings'})\n",
    "df = df.groupby(by='episode', axis=0)['couplings'].sum()\n",
    "df.to_frame().loc[:, 'couplings'].plot(title='Couplings per Episode', figsize=FIG_SIZE_LARGE)"
   ]
  },
  {
   "cell_type": "markdown",
   "id": "27cf8328",
   "metadata": {},
   "source": [
    "## 5) Consensus Learners Actor Critic\n",
    "\n",
    "\n",
    "BASE_PATH = '08_quad_randomized_coefficents/04_consensus_learners/02'\n",
    "\n",
    "### C.5.1 Rollout Simulation\n",
    "\n",
    "GIF from the best performing training.\n",
    "\n",
    "![pipeline-distributed-simulation](08_quad_randomized_coefficents/04_consensus_learners/02/simulation-pipeline-best.gif)"
   ]
  },
  {
   "cell_type": "markdown",
   "id": "a22a4d02",
   "metadata": {},
   "source": [
    "### C.4.2 Rollout Graph\n",
    "\n",
    "\n",
    "![pipeline-distributed-rollout](08_quad_randomized_coefficents/03_independent_learners/02/evaluation_rollout_n4_num01.png)"
   ]
  },
  {
   "cell_type": "code",
   "execution_count": 58,
   "id": "d6e126a9",
   "metadata": {},
   "outputs": [
    {
     "data": {
      "text/plain": [
       "Unnamed: 0    4950.000000\n",
       "1              -57.170834\n",
       "dtype: float64"
      ]
     },
     "execution_count": 58,
     "metadata": {},
     "output_type": "execute_result"
    }
   ],
   "source": [
    "df = pd.read_csv('08_quad_randomized_coefficents/04_consensus_learners/02/evaluation_rollout-num01.csv', sep=',')\n",
    "df.sum()"
   ]
  },
  {
   "cell_type": "markdown",
   "id": "18a950fb",
   "metadata": {},
   "source": [
    "### C.4.3 Train<a name=\"A-2.3\"></a> \n",
    "\n",
    "\n",
    "\n",
    "![pipeline-independent-train-30](08_quad_randomized_coefficents/04_consensus_learners/02/train_pipeline_m10.png)\n",
    "![rollout-independent-train-30](08_quad_randomized_coefficents/04_consensus_learners/02/train_rollout_m10.png)"
   ]
  },
  {
   "cell_type": "markdown",
   "id": "154eff7c",
   "metadata": {},
   "source": [
    "### C.2.4 Collision "
   ]
  },
  {
   "cell_type": "code",
   "execution_count": 59,
   "id": "b178d632",
   "metadata": {},
   "outputs": [
    {
     "data": {
      "text/plain": [
       "<AxesSubplot:title={'center':'Collisions per Episode'}, xlabel='episode'>"
      ]
     },
     "execution_count": 59,
     "metadata": {},
     "output_type": "execute_result"
    },
    {
     "data": {
      "image/png": "[encoded data removed]",
      "text/plain": [
       "<Figure size 864x360 with 1 Axes>"
      ]
     },
     "metadata": {
      "needs_background": "light"
     },
     "output_type": "display_data"
    }
   ],
   "source": [
    "FIG_SIZE_LARGE = (12.0, 5.0)\n",
    "FIG_SIZE_SMALL = (6.0, 4.0)\n",
    "import pandas as pd\n",
    "BASE_PATH = '08_quad_randomized_coefficents/04_consensus_learners/02/'\n",
    "df = pd.read_csv(BASE_PATH + '/pipeline-train-collisions.csv', sep=',', index_col=0)\n",
    "df['episode'] = df.index // 100\n",
    "df = df.set_index('episode', inplace=False, drop=True)\n",
    "df = df.sum(axis=1).to_frame().rename(columns={0: 'collisions'})\n",
    "df = df.groupby(by='episode', axis=0)['collisions'].sum()\n",
    "df.to_frame().loc[:, 'collisions'].plot(title='Collisions per Episode', figsize=FIG_SIZE_LARGE)"
   ]
  },
  {
   "cell_type": "markdown",
   "id": "ccf62223",
   "metadata": {},
   "source": [
    "### C.2.5 Coupling"
   ]
  },
  {
   "cell_type": "code",
   "execution_count": 60,
   "id": "7fd1297d",
   "metadata": {},
   "outputs": [
    {
     "data": {
      "text/plain": [
       "<AxesSubplot:title={'center':'Couplings per Episode'}, xlabel='episode'>"
      ]
     },
     "execution_count": 60,
     "metadata": {},
     "output_type": "execute_result"
    },
    {
     "data": {
      "image/png": "[encoded data removed]",
      "text/plain": [
       "<Figure size 864x360 with 1 Axes>"
      ]
     },
     "metadata": {
      "needs_background": "light"
     },
     "output_type": "display_data"
    }
   ],
   "source": [
    "BASE_PATH = '08_quad_randomized_coefficents/04_consensus_learners/02/'\n",
    "df = pd.read_csv(BASE_PATH + '/pipeline-train-couplings.csv', sep=',', index_col=0)\n",
    "df['episode'] = df.index // 100\n",
    "df = df.set_index('episode', inplace=False, drop=True)\n",
    "df = df.sum(axis=1).to_frame().rename(columns={0: 'couplings'})\n",
    "df = df.groupby(by='episode', axis=0)['couplings'].sum()\n",
    "df.to_frame().loc[:, 'couplings'].plot(title='Couplings per Episode', figsize=FIG_SIZE_LARGE)"
   ]
  },
  {
   "cell_type": "code",
   "execution_count": null,
   "id": "8dc486ec",
   "metadata": {},
   "outputs": [],
   "source": []
  }
 ],
 "metadata": {
  "kernelspec": {
   "display_name": "Python 3 (ipykernel)",
   "language": "python",
   "name": "python3"
  },
  "language_info": {
   "codemirror_mode": {
    "name": "ipython",
    "version": 3
   },
   "file_extension": ".py",
   "mimetype": "text/x-python",
   "name": "python",
   "nbconvert_exporter": "python",
   "pygments_lexer": "ipython3",
   "version": "3.9.6"
  }
 },
 "nbformat": 4,
 "nbformat_minor": 5
}
