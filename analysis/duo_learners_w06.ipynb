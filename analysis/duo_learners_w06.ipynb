{
 "cells": [
  {
   "cell_type": "markdown",
   "id": "b0fbce7e",
   "metadata": {},
   "source": [
    "# Recap\n",
    "\n",
    "- We test three different information structures.\n",
    "    * Centralized learner\n",
    "    * Distributed learner\n",
    "    * Independent learner\n",
    "\n",
    "- Under the Duo and Trio task settings.\n",
    "\n",
    "## Findings\n",
    "\n",
    "1. The policies induced by the information structures were **particular**.\n",
    "    * Centralized agent approaches a landmark and than tries to approach another. Incurring in bumps.\n",
    "    * Distributed agents do not seek to settle on a particular landmark but oscilate around landmarks.\n",
    "    * Independent learners greedly seek to settle on a landmark. Regadless of bumps: High risk high reward.\n",
    "2. Centralized agent needed more steps to propertly learn.\n",
    "3. Determine the causes of distributed agent failing at learning on the latter parts of the episode.\n"
   ]
  },
  {
   "cell_type": "markdown",
   "id": "e680bbcd",
   "metadata": {},
   "source": [
    "# Duo Task\n",
    "\n",
    "## Goal:\n",
    "\n",
    "### Agents must learn how to navigate to a target landmark, while avoiding other agents.\n",
    "\n",
    "- Both agents and landmarks are restarted at the begining of each episode. And agents are assigned a landmark they must navigate to, they must through trial and error be find which landmark they were assigned to.\n",
    "- States are the coordinates to the other agent and to both landmarks.\n",
    "- Reward is defined by the distance from an agent to its assigned landmark. If they collide both receive an extra reward=-1.\n",
    "\n",
    "\n",
    "The objective of this notebook:\n",
    "* Leaderboard: `episodes=5000` to `episodes=10000`.\n",
    "* Test the new version of the distributed learners.\n",
    "    - **Before**\n",
    "    \\begin{align*}\n",
    "    \\delta_t &\\leftarrow \\bar{r}_{t+1} - \\mu_t + V(x(s_{t+1}); \\omega_t) - V(x(s_t); \\omega_t)\\\\\n",
    "    \\omega_{t+1} &\\leftarrow \\omega_t + \\alpha  \\delta_t x(s_t) \n",
    "    \\end{align*}\n",
    "    - **After**\n",
    "    \\begin{align*}\n",
    "    \\delta_t &\\leftarrow \\bar{r}_{t+1} - \\mu_t + Q(x(s_{t+1}), a_{t+1} ; \\omega_t) - Q(x(s_t), a_t; \\omega_t)\\\\\n",
    "    \\omega^{a_t}_{t+1} &\\leftarrow \\omega^{a_t}_t + \\alpha  \\delta_t x(s_t) \n",
    "    \\end{align*}\n",
    " \n",
    "In summary the agent can now also learn from actions.\n",
    "\n",
    "### General MDP\n",
    "\n",
    "$$\\mathcal{X} = \\mathcal{X}_1 \\times \\mathcal{X}_2$$\n",
    "$$\\mathcal{A} = \\mathcal{A}_1 \\times \\mathcal{A}_2$$\n",
    "$$r = r_1(x_1) + r_2(x_2)$$\n",
    "\n",
    "#### States\n",
    "\n",
    "$$\\mathcal{X}_1 = (\\alpha^1_x, \\alpha^1_y, v^ 1_x, v^ 1_y, l^1_x, l^1_y, l^2_x, l^2_y) $$\n",
    "$$\\mathcal{X}_2 = (\\alpha^2_x, \\alpha^2_y, v^2_x, v^2_y, l^1_x, l^1_y, l^2_x, l^2_y) $$\n",
    "\n",
    "#### Actions\n",
    "\n",
    "$$\\mathcal{A}_1 = (0, 1, 2, 3, 4) $$\n",
    "$$\\mathcal{A}_2 = (0, 1, 2, 3, 4) $$\n",
    "$$\\mathcal{A}_3 = (0, 1, 2, 3, 4) $$\n",
    "\n",
    "#### Rewards\n",
    "\n",
    " `TODO`\n",
    "\n",
    "### Central Learner\n",
    "\n",
    "The central agents solves the general MDP above.\n",
    "\n",
    "    - Single agent.\n",
    "    - Fully observable setting.\n",
    "    - Learnings using the average reward from both players.\n",
    "<table>\n",
    "<tr>\n",
    "<th>Central Agent</th>\n",
    "</tr>\n",
    "<tr>\n",
    "<td>\n",
    "$$\\mathcal{X}_1 \\times \\mathcal{X}_2$$\n",
    "$$\\mathcal{A}_1 \\times \\mathcal{A}_2$$\n",
    "$$r_1(x_1) + r_2(x_2)$$\n",
    "</td>\n",
    "</tr>\n",
    "</table>\n",
    "\n",
    "### Distributed Learners\n",
    "\n",
    "The distributed agent have full observability but learn\n",
    "independently.\n",
    "\n",
    "    - Independent agents.\n",
    "    - Fully observable setting.\n",
    "    - Learnings using the average reward from both players.\n",
    "\n",
    "<table>\n",
    "<tr>\n",
    "<th>Agent 1</th>\n",
    "<th>Agent 2</th>\n",
    "</tr>\n",
    "<tr>\n",
    "<td>\n",
    "$$\\mathcal{X}_1 \\times \\mathcal{X}_2$$\n",
    "$$\\mathcal{A}_1 $$\n",
    "$$r_1(x_1) + r_2(x_2)$$\n",
    "</td>\n",
    "<td>\n",
    "$$\\mathcal{X}_1 \\times \\mathcal{X}_2$$\n",
    "$$\\mathcal{A}_2 $$\n",
    "$$ r_1(x_1) + r_2(x_2)$$\n",
    "</td>\n",
    "</tr>\n",
    "</table>\n",
    "\n",
    "### Independent Learner\n",
    "\n",
    "The distributed agent have partial observability and learn\n",
    "independently.\n",
    "\n",
    "    - Independent agents.\n",
    "    - Partially observable setting.\n",
    "    - Individual rewards.\n",
    "\n",
    "<table>\n",
    "<tr>\n",
    "<th>Agent 1</th>\n",
    "<th>Agent 2</th>\n",
    "</tr>\n",
    "<tr>\n",
    "<td>\n",
    "$$\\mathcal{X}_1$$\n",
    "$$\\mathcal{A}_1$$\n",
    "$$r_1(x_1)$$\n",
    "</td>\n",
    "<td>\n",
    "$$\\mathcal{X}_2$$\n",
    "$$\\mathcal{A}_2 $$\n",
    "$$ r_2(x_2)$$\n",
    "</td>\n",
    "</tr>\n",
    "</table>\n",
    "\n",
    "## Settings\n",
    "\n",
    "\n",
    "1. We compare the three information strucutures above. \n",
    "2. Initially, $\\tau = 100$ and it falls linearly with the number of episodes (`explore_episodes=9975`). \n",
    "3. Each test dataframe consists of the DataFrame.describe() statistics from **N** = 30 independent random trials, each of which consisting of rollouts of `M=100`, with $\\tau$ set to a predetermined value.\n",
    "\n",
    "Parameters:\n",
    "```\n",
    "\"\"\"Configuration\"\"\"\n",
    "ALPHA = 0.5  # ALPHA:\n",
    "BETA = 0.3  # BETA:\n",
    "TAU = 5.0   # Final TAU\n",
    "ZETA = 0.1\n",
    "EXPLORE_EPISODES = 9000\n",
    "EPISODES = 10000\n",
    "EXPLORE = True  # WHETER OR NOT WE USE EXPLORATION\n",
    "\n",
    "SEED = 0\n",
    "BASE_PATH = 'data/00_duo/01_tau05_10000/'\n",
    "\n",
    "PIPELINE_SEEDS = [\n",
    "    47,\n",
    "    48,\n",
    "    49,\n",
    "    50,\n",
    "    51,\n",
    "    52,\n",
    "    53,\n",
    "    54,\n",
    "    55,\n",
    "    56,\n",
    "    57,\n",
    "    58,\n",
    "    # 59,\n",
    "    # 60,\n",
    "    # 61,\n",
    "    # 62,\n",
    "    # 63,\n",
    "    # 64,\n",
    "    # 65,\n",
    "    # 66,\n",
    "    # 67,\n",
    "    # 68,\n",
    "    # 69,\n",
    "    # 70,\n",
    "    # 71,\n",
    "    # 72,\n",
    "    # 73,\n",
    "    # 74,\n",
    "    # 75,\n",
    "    # 76\n",
    "]\n",
    "```"
   ]
  },
  {
   "cell_type": "markdown",
   "id": "cc2ebcbe",
   "metadata": {},
   "source": [
    "## 1) Central Agent"
   ]
  },
  {
   "cell_type": "markdown",
   "id": "e11bc8cf",
   "metadata": {},
   "source": [
    "BASE_PATH = '00_duo/01_tau05_10000/00_central/02'\n",
    "\n",
    "### 1.1 Rollout Simulation\n",
    "\n",
    "GIF from the best performing training.\n",
    "\n",
    "![pipeline-central-simulation](00_duo/01_tau05_10000/00_central/02/simulation-pipeline-best.gif)"
   ]
  },
  {
   "cell_type": "markdown",
   "id": "6e2ee08b",
   "metadata": {},
   "source": [
    "### 1.2 Rollout Graph\n",
    "\n",
    "\n",
    "![pipeline-central-simulation](00_duo/01_tau05_10000/00_central/02/evaluation_rollout_n2_num06.png)"
   ]
  },
  {
   "cell_type": "markdown",
   "id": "1d7d4c57",
   "metadata": {},
   "source": [
    "### 1.3 Train<a name=\"A-1.3\"></a> \n",
    "\n",
    "\n",
    "\n",
    "![pipeline-central-train-12](00_duo/01_tau05_10000/00_central/02/train_pipeline_m12.png)\n",
    "![rollout-central-train-12](00_duo/01_tau05_10000/00_central/02/train_rollout_m12.png)"
   ]
  },
  {
   "cell_type": "markdown",
   "id": "940bc6e9",
   "metadata": {},
   "source": [
    "### 1.4 Collision "
   ]
  },
  {
   "cell_type": "code",
   "execution_count": 20,
   "id": "4fbb9079",
   "metadata": {},
   "outputs": [
    {
     "data": {
      "text/plain": [
       "<AxesSubplot:title={'center':'Collisions per Episode'}, xlabel='episode'>"
      ]
     },
     "execution_count": 20,
     "metadata": {},
     "output_type": "execute_result"
    },
    {
     "data": {
      "image/png": "[encoded data removed]",
      "text/plain": [
       "<Figure size 864x360 with 1 Axes>"
      ]
     },
     "metadata": {
      "needs_background": "light"
     },
     "output_type": "display_data"
    }
   ],
   "source": [
    "FIG_SIZE_LARGE = (12.0, 5.0)\n",
    "FIG_SIZE_SMALL = (6.0, 4.0)\n",
    "import pandas as pd\n",
    "BASE_PATH = '02_duo_collisions_and_couplings/00_central/02'\n",
    "df = pd.read_csv(BASE_PATH + '/pipeline-train-collisions.csv', sep=',', index_col=0)\n",
    "df['episode'] = df.index // 100\n",
    "df = df.set_index('episode', inplace=False, drop=True)\n",
    "df = df.sum(axis=1).to_frame().rename(columns={0: 'collisions'})\n",
    "df = df.groupby(by='episode', axis=0)['collisions'].sum()\n",
    "df.to_frame().loc[:, 'collisions'].plot(title='Collisions per Episode', figsize=FIG_SIZE_LARGE)"
   ]
  },
  {
   "cell_type": "markdown",
   "id": "c04d2f77",
   "metadata": {},
   "source": [
    "\n",
    "![pipeline-central-train-12](02_duo_collisions_and_couplings/00_central/02/train_pipeline_m30.png)\n",
    "![rollout-central-train-12](02_duo_collisions_and_couplings/00_central/02/train_rollout_m3.png)"
   ]
  },
  {
   "cell_type": "markdown",
   "id": "8532e76f",
   "metadata": {},
   "source": [
    "### 1.5 Coupling"
   ]
  },
  {
   "cell_type": "code",
   "execution_count": 23,
   "id": "556e6f28",
   "metadata": {},
   "outputs": [
    {
     "data": {
      "text/plain": [
       "<AxesSubplot:title={'center':'Couplings per Episode'}, xlabel='episode'>"
      ]
     },
     "execution_count": 23,
     "metadata": {},
     "output_type": "execute_result"
    },
    {
     "data": {
      "image/png": "[encoded data removed]",
      "text/plain": [
       "<Figure size 864x360 with 1 Axes>"
      ]
     },
     "metadata": {
      "needs_background": "light"
     },
     "output_type": "display_data"
    }
   ],
   "source": [
    "BASE_PATH = '02_duo_collisions_and_couplings/00_central/02'\n",
    "df = pd.read_csv(BASE_PATH + '/pipeline-train-couplings.csv', sep=',', index_col=0)\n",
    "df['episode'] = df.index // 100\n",
    "df = df.set_index('episode', inplace=False, drop=True)\n",
    "df = df.sum(axis=1).to_frame().rename(columns={0: 'couplings'})\n",
    "df = df.groupby(by='episode', axis=0)['couplings'].sum()\n",
    "df.to_frame().loc[:, 'couplings'].plot(title='Couplings per Episode', figsize=FIG_SIZE_LARGE)"
   ]
  },
  {
   "cell_type": "markdown",
   "id": "5e48c6c7",
   "metadata": {},
   "source": [
    "## 2) Distributed Actor Critic\n",
    "\n",
    "BASE_PATH = '00_duo/01_tau05_10000/02_distributed_learners/02'\n",
    "\n",
    "### 2.1 Rollouts\n",
    "\n",
    "GIF from the best performing training.\n",
    "\n",
    "![pipeline-distributed-simulation](00_duo/01_tau05_10000/01_distributed_learners2/02/simulation-pipeline-best.gif)"
   ]
  },
  {
   "cell_type": "markdown",
   "id": "0afa7c39",
   "metadata": {},
   "source": [
    "### 2.2 Rollout Graph\n",
    "\n",
    "\n",
    "![pipeline-distributed-simulation](00_duo/01_tau05_10000/01_distributed_learners2/02/evaluation_rollout_n2_num08.png)"
   ]
  },
  {
   "cell_type": "markdown",
   "id": "2b40213c",
   "metadata": {},
   "source": [
    "### 2.3 Train<a name=\"A-2.3\"></a> \n",
    "\n",
    "\n",
    "![pipeline-central-train-12](00_duo/01_tau05_10000/01_distributed_learners2/02/train_pipeline_m12.png)\n",
    "![rollout-central-train-12](00_duo/01_tau05_10000/01_distributed_learners2/02/train_rollout_m12.png)"
   ]
  },
  {
   "cell_type": "markdown",
   "id": "e0a79559",
   "metadata": {},
   "source": [
    "### 2.4 Collision "
   ]
  },
  {
   "cell_type": "code",
   "execution_count": 24,
   "id": "aaa85063",
   "metadata": {
    "scrolled": false
   },
   "outputs": [
    {
     "data": {
      "text/plain": [
       "<AxesSubplot:title={'center':'Collisions per Episode'}, xlabel='episode'>"
      ]
     },
     "execution_count": 24,
     "metadata": {},
     "output_type": "execute_result"
    },
    {
     "data": {
      "image/png": "[encoded data removed]",
      "text/plain": [
       "<Figure size 864x360 with 1 Axes>"
      ]
     },
     "metadata": {
      "needs_background": "light"
     },
     "output_type": "display_data"
    }
   ],
   "source": [
    "FIG_SIZE_LARGE = (12.0, 5.0)\n",
    "FIG_SIZE_SMALL = (6.0, 4.0)\n",
    "import pandas as pd\n",
    "BASE_PATH = '02_duo_collisions_and_couplings/01_distributed_learners2/02'\n",
    "df = pd.read_csv(BASE_PATH + '/pipeline-train-collisions.csv', sep=',', index_col=0)\n",
    "df['episode'] = df.index // 100\n",
    "df = df.set_index('episode', inplace=False, drop=True)\n",
    "df = df.sum(axis=1).to_frame().rename(columns={0: 'collisions'})\n",
    "df = df.groupby(by='episode', axis=0)['collisions'].sum()\n",
    "df.to_frame().loc[:, 'collisions'].plot(title='Collisions per Episode', figsize=FIG_SIZE_LARGE)"
   ]
  },
  {
   "cell_type": "markdown",
   "id": "777c3f11",
   "metadata": {},
   "source": [
    "### 1.5 Coupling"
   ]
  },
  {
   "cell_type": "code",
   "execution_count": 26,
   "id": "d4e4ca9b",
   "metadata": {},
   "outputs": [
    {
     "data": {
      "text/plain": [
       "<AxesSubplot:title={'center':'Couplings per Episode'}, xlabel='episode'>"
      ]
     },
     "execution_count": 26,
     "metadata": {},
     "output_type": "execute_result"
    },
    {
     "data": {
      "image/png": "[encoded data removed]",
      "text/plain": [
       "<Figure size 864x360 with 1 Axes>"
      ]
     },
     "metadata": {
      "needs_background": "light"
     },
     "output_type": "display_data"
    }
   ],
   "source": [
    "BASE_PATH = '02_duo_collisions_and_couplings/01_distributed_learners2/02'\n",
    "df = pd.read_csv(BASE_PATH + '/pipeline-train-couplings.csv', sep=',', index_col=0)\n",
    "df['episode'] = df.index // 100\n",
    "df = df.set_index('episode', inplace=False, drop=True)\n",
    "df = df.sum(axis=1).to_frame().rename(columns={0: 'couplings'})\n",
    "df = df.groupby(by='episode', axis=0)['couplings'].sum()\n",
    "df.to_frame().loc[:, 'couplings'].plot(title='Couplings per Episode', figsize=FIG_SIZE_LARGE)"
   ]
  },
  {
   "cell_type": "markdown",
   "id": "7f13df10",
   "metadata": {},
   "source": [
    "## 3) Independent Learners Actor Critic\n",
    "\n",
    "BASE_PATH = '00_duo/01_tau05_10000/03_independent_learners/02'\n",
    "\n",
    "### 2.1 Rollouts\n",
    "GIF from the best performing training.\n",
    "\n",
    "![pipeline-independent-simulation](00_duo/01_tau05_10000/02_independent_learners/02/simulation-pipeline-best.gif)"
   ]
  },
  {
   "cell_type": "markdown",
   "id": "91de82f5",
   "metadata": {},
   "source": [
    "### 3.2 Rollout Graph\n",
    "\n",
    "\n",
    "![pipeline-independent-rollout](00_duo/01_tau05_10000/02_independent_learners/02/evaluation_rollout_n2_num05.png)"
   ]
  },
  {
   "cell_type": "markdown",
   "id": "3bc0553c",
   "metadata": {},
   "source": [
    "### 3.3 Train <a name=\"A-3.3\"></a> \n",
    "\n",
    "\n",
    "\n",
    "![pipeline-independent-train-30](00_duo/01_tau05_10000/02_independent_learners/02/train_pipeline_m12.png)\n",
    "![rollout-independent-train-30](00_duo/01_tau05_10000/02_independent_learners/02/train_rollout_m12.png)"
   ]
  },
  {
   "cell_type": "markdown",
   "id": "baa6d0d6",
   "metadata": {},
   "source": [
    "## 1) Central Agent"
   ]
  },
  {
   "cell_type": "markdown",
   "id": "f020bc8f",
   "metadata": {},
   "source": [
    "BASE_PATH = '00_duo/01_tau05_10000/00_central/02'\n",
    "\n",
    "### 1.1 Rollout Simulation\n",
    "\n",
    "GIF from the best performing training.\n",
    "\n",
    "![pipeline-central-simulation](00_duo/01_tau05_10000/00_central/02/simulation-pipeline-best.gif)"
   ]
  },
  {
   "cell_type": "markdown",
   "id": "7b3290af",
   "metadata": {},
   "source": [
    "### 1.2 Rollout Graph\n",
    "\n",
    "\n",
    "![pipeline-central-simulation](03_duo_collisions_and_couplings/00_central/02/evaluation_rollout_n2_num08.png)"
   ]
  },
  {
   "cell_type": "markdown",
   "id": "8d5ff4de",
   "metadata": {},
   "source": [
    "### 1.3 Train<a name=\"A-1.3\"></a> \n",
    "\n",
    "\n",
    "\n",
    "![pipeline-central-train-12](03_duo_collisions_and_couplings/00_central/02/train_pipeline_m30.png)\n",
    "![rollout-central-train-12](03_duo_collisions_and_couplings/00_central/02/train_rollout_m30.png)"
   ]
  },
  {
   "cell_type": "markdown",
   "id": "9d3b021f",
   "metadata": {},
   "source": [
    "### 1.4 Collision "
   ]
  },
  {
   "cell_type": "code",
   "execution_count": 1,
   "id": "3118814d",
   "metadata": {},
   "outputs": [
    {
     "data": {
      "text/plain": [
       "<AxesSubplot:title={'center':'Collisions per Episode'}, xlabel='episode'>"
      ]
     },
     "execution_count": 1,
     "metadata": {},
     "output_type": "execute_result"
    },
    {
     "data": {
      "image/png": "[encoded data removed]",
      "text/plain": [
       "<Figure size 864x360 with 1 Axes>"
      ]
     },
     "metadata": {
      "needs_background": "light"
     },
     "output_type": "display_data"
    }
   ],
   "source": [
    "FIG_SIZE_LARGE = (12.0, 5.0)\n",
    "FIG_SIZE_SMALL = (6.0, 4.0)\n",
    "import pandas as pd\n",
    "BASE_PATH = '03_duo_collisions_and_couplings/00_central/02'\n",
    "df = pd.read_csv(BASE_PATH + '/pipeline-train-collisions.csv', sep=',', index_col=0)\n",
    "df['episode'] = df.index // 100\n",
    "df = df.set_index('episode', inplace=False, drop=True)\n",
    "df = df.sum(axis=1).to_frame().rename(columns={0: 'collisions'})\n",
    "df = df.groupby(by='episode', axis=0)['collisions'].sum()\n",
    "df.to_frame().loc[:, 'collisions'].plot(title='Collisions per Episode', figsize=FIG_SIZE_LARGE)"
   ]
  },
  {
   "cell_type": "markdown",
   "id": "1bed825f",
   "metadata": {},
   "source": [
    "\n",
    "![pipeline-central-train-12](02_duo_collisions_and_couplings/00_central/02/train_pipeline_m30.png)\n",
    "![rollout-central-train-12](02_duo_collisions_and_couplings/00_central/02/train_rollout_m3.png)"
   ]
  },
  {
   "cell_type": "markdown",
   "id": "53d7b073",
   "metadata": {},
   "source": [
    "### 1.5 Coupling"
   ]
  },
  {
   "cell_type": "code",
   "execution_count": 2,
   "id": "367cd97d",
   "metadata": {},
   "outputs": [
    {
     "data": {
      "text/plain": [
       "<AxesSubplot:title={'center':'Couplings per Episode'}, xlabel='episode'>"
      ]
     },
     "execution_count": 2,
     "metadata": {},
     "output_type": "execute_result"
    },
    {
     "data": {
      "image/png": "[encoded data removed]",
      "text/plain": [
       "<Figure size 864x360 with 1 Axes>"
      ]
     },
     "metadata": {
      "needs_background": "light"
     },
     "output_type": "display_data"
    }
   ],
   "source": [
    "BASE_PATH = '03_duo_collisions_and_couplings/00_central/02'\n",
    "df = pd.read_csv(BASE_PATH + '/pipeline-train-couplings.csv', sep=',', index_col=0)\n",
    "df['episode'] = df.index // 100\n",
    "df = df.set_index('episode', inplace=False, drop=True)\n",
    "df = df.sum(axis=1).to_frame().rename(columns={0: 'couplings'})\n",
    "df = df.groupby(by='episode', axis=0)['couplings'].sum()\n",
    "df.to_frame().loc[:, 'couplings'].plot(title='Couplings per Episode', figsize=FIG_SIZE_LARGE)"
   ]
  },
  {
   "cell_type": "markdown",
   "id": "334d66ea",
   "metadata": {},
   "source": [
    "## 4) Consensus Learners\n"
   ]
  },
  {
   "cell_type": "markdown",
   "id": "c4c000e4",
   "metadata": {},
   "source": [
    "BASE_PATH = '00_duo/01_tau05_10000/04_consensus_learners/02'\n",
    "\n",
    "### 4.1 Rollouts\n",
    "GIF from the best performing training.\n",
    "\n",
    "![pipeline-independent-simulation](00_duo/01_tau05_10000/03_consensus_learners/02/simulation-pipeline-best.gif)"
   ]
  },
  {
   "cell_type": "markdown",
   "id": "f2dbf4e5",
   "metadata": {},
   "source": [
    "### 4.2 Rollout Graph\n",
    "\n",
    "\n",
    "![pipeline-consensus-rollout](00_duo/01_tau05_10000/03_consensus_learners/02/evaluation_rollout_n2_num01.png)"
   ]
  },
  {
   "cell_type": "markdown",
   "id": "e78b9850",
   "metadata": {},
   "source": [
    "### 4.3 Train <a name=\"A-3.3\"></a> \n",
    "\n",
    "\n",
    "![pipeline-consensus-train-30](00_duo/01_tau05_10000/03_consensus_learners/02/train_pipeline_m12.png)\n",
    "![rollout-consensus-train-30](00_duo/01_tau05_10000/03_consensus_learners/02/train_rollout_m12.png)"
   ]
  },
  {
   "cell_type": "markdown",
   "id": "15b20f5f",
   "metadata": {},
   "source": [
    "## 4) Leaderboard 10000<a name=\"A-leaderboard\"></a> "
   ]
  },
  {
   "cell_type": "code",
   "execution_count": 9,
   "id": "05cb51da",
   "metadata": {},
   "outputs": [],
   "source": [
    "import pandas as pd\n",
    "PREFIX_PATH = '00_duo/01_tau05_10000'\n",
    "SUFFIX_PATH = '02/pipeline-rollouts-summary.csv'\n",
    "\n",
    "def get_path(x):\n",
    "    return '%s/%s/%s' % (PREFIX_PATH, x, SUFFIX_PATH)\n",
    "def get_csv(x):\n",
    "    return pd.read_csv(get_path(x), sep=',', index_col=0)\n",
    "\n",
    "def describe(dataframe: pd.DataFrame, label: str) -> pd.DataFrame:\n",
    "    \"\"\"Describes the dataframe\n",
    "    \n",
    "    Parameters\n",
    "    ----------\n",
    "    dataframe: pd.DataFrame\n",
    "        A dataframe with description N independent rollouts.\n",
    "        Each consisting of M timesteps.\n",
    "        Trials are in the columns and rows are statistics.\n",
    "        The result of df.describe()\n",
    "   \n",
    "    Returns\n",
    "    -------\n",
    "    dataframe: pd.DataFrame\n",
    "        A description of the average return.\n",
    "    \n",
    "    \"\"\"\n",
    "    df = dataframe.drop(['std', 'count', '25%', '50%', '75%'], axis=0)\n",
    "    ts = df.T.describe()['mean']\n",
    "    ts.name = label\n",
    "    return ts.to_frame()"
   ]
  },
  {
   "cell_type": "code",
   "execution_count": 11,
   "id": "7f7c884c",
   "metadata": {},
   "outputs": [
    {
     "data": {
      "text/html": [
       "<div>\n",
       "<style scoped>\n",
       "    .dataframe tbody tr th:only-of-type {\n",
       "        vertical-align: middle;\n",
       "    }\n",
       "\n",
       "    .dataframe tbody tr th {\n",
       "        vertical-align: top;\n",
       "    }\n",
       "\n",
       "    .dataframe thead th {\n",
       "        text-align: right;\n",
       "    }\n",
       "</style>\n",
       "<table border=\"1\" class=\"dataframe\">\n",
       "  <thead>\n",
       "    <tr style=\"text-align: right;\">\n",
       "      <th></th>\n",
       "      <th>central</th>\n",
       "      <th>distributed</th>\n",
       "      <th>independent</th>\n",
       "      <th>consensus</th>\n",
       "    </tr>\n",
       "  </thead>\n",
       "  <tbody>\n",
       "    <tr>\n",
       "      <th>count</th>\n",
       "      <td>12.000000</td>\n",
       "      <td>12.000000</td>\n",
       "      <td>12.000000</td>\n",
       "      <td>12.000000</td>\n",
       "    </tr>\n",
       "    <tr>\n",
       "      <th>mean</th>\n",
       "      <td>-0.936160</td>\n",
       "      <td>-0.778078</td>\n",
       "      <td>-0.921831</td>\n",
       "      <td>-1.775816</td>\n",
       "    </tr>\n",
       "    <tr>\n",
       "      <th>std</th>\n",
       "      <td>0.203765</td>\n",
       "      <td>0.287804</td>\n",
       "      <td>0.144684</td>\n",
       "      <td>1.847337</td>\n",
       "    </tr>\n",
       "    <tr>\n",
       "      <th>min</th>\n",
       "      <td>-1.405300</td>\n",
       "      <td>-1.416441</td>\n",
       "      <td>-1.192741</td>\n",
       "      <td>-6.583758</td>\n",
       "    </tr>\n",
       "    <tr>\n",
       "      <th>25%</th>\n",
       "      <td>-1.003028</td>\n",
       "      <td>-0.915378</td>\n",
       "      <td>-0.979425</td>\n",
       "      <td>-1.531485</td>\n",
       "    </tr>\n",
       "    <tr>\n",
       "      <th>50%</th>\n",
       "      <td>-0.914324</td>\n",
       "      <td>-0.793019</td>\n",
       "      <td>-0.911007</td>\n",
       "      <td>-1.012742</td>\n",
       "    </tr>\n",
       "    <tr>\n",
       "      <th>75%</th>\n",
       "      <td>-0.871600</td>\n",
       "      <td>-0.533962</td>\n",
       "      <td>-0.828651</td>\n",
       "      <td>-0.813505</td>\n",
       "    </tr>\n",
       "    <tr>\n",
       "      <th>max</th>\n",
       "      <td>-0.501187</td>\n",
       "      <td>-0.414230</td>\n",
       "      <td>-0.690237</td>\n",
       "      <td>-0.624688</td>\n",
       "    </tr>\n",
       "  </tbody>\n",
       "</table>\n",
       "</div>"
      ],
      "text/plain": [
       "         central  distributed  independent  consensus\n",
       "count  12.000000    12.000000    12.000000  12.000000\n",
       "mean   -0.936160    -0.778078    -0.921831  -1.775816\n",
       "std     0.203765     0.287804     0.144684   1.847337\n",
       "min    -1.405300    -1.416441    -1.192741  -6.583758\n",
       "25%    -1.003028    -0.915378    -0.979425  -1.531485\n",
       "50%    -0.914324    -0.793019    -0.911007  -1.012742\n",
       "75%    -0.871600    -0.533962    -0.828651  -0.813505\n",
       "max    -0.501187    -0.414230    -0.690237  -0.624688"
      ]
     },
     "execution_count": 11,
     "metadata": {},
     "output_type": "execute_result"
    }
   ],
   "source": [
    "dataframes = []\n",
    "dataframes.append(describe(get_csv('00_central'), label='central'))\n",
    "dataframes.append(describe(get_csv('01_distributed_learners2'), label='distributed'))\n",
    "dataframes.append(describe(get_csv('02_independent_learners'), label='independent'))\n",
    "dataframes.append(describe(get_csv('03_consensus_learners'), label='consensus'))\n",
    "df = pd.concat(dataframes, axis=1)\n",
    "df"
   ]
  },
  {
   "cell_type": "markdown",
   "id": "c3905dea",
   "metadata": {},
   "source": [
    "## 5) Leaderboard 5000<a name=\"B-leaderboard\"></a> \n",
    "\n",
    "We set `episodes=10000` and `explore_episodes=4975`."
   ]
  },
  {
   "cell_type": "code",
   "execution_count": 13,
   "id": "54c6eba0",
   "metadata": {},
   "outputs": [],
   "source": [
    "import pandas as pd\n",
    "BASE_PATH = '16_duo/03_tau05/5000/'\n",
    "\n",
    "central_df = pd.read_csv(BASE_PATH + '00_central/02/pipeline.csv', sep=',', index_col=0)\n",
    "joint_df = pd.read_csv(BASE_PATH + '01_joint_learners/02/pipeline.csv', sep=',', index_col=0)\n",
    "indep_df = pd.read_csv(BASE_PATH + '02_independent_learners/02/pipeline.csv', sep=',', index_col=0)"
   ]
  },
  {
   "cell_type": "code",
   "execution_count": 16,
   "id": "218f8449",
   "metadata": {},
   "outputs": [
    {
     "data": {
      "text/html": [
       "<div>\n",
       "<style scoped>\n",
       "    .dataframe tbody tr th:only-of-type {\n",
       "        vertical-align: middle;\n",
       "    }\n",
       "\n",
       "    .dataframe tbody tr th {\n",
       "        vertical-align: top;\n",
       "    }\n",
       "\n",
       "    .dataframe thead th {\n",
       "        text-align: right;\n",
       "    }\n",
       "</style>\n",
       "<table border=\"1\" class=\"dataframe\">\n",
       "  <thead>\n",
       "    <tr style=\"text-align: right;\">\n",
       "      <th></th>\n",
       "      <th>central</th>\n",
       "      <th>joint</th>\n",
       "      <th>independent</th>\n",
       "    </tr>\n",
       "  </thead>\n",
       "  <tbody>\n",
       "    <tr>\n",
       "      <th>count</th>\n",
       "      <td>30.000000</td>\n",
       "      <td>30.000000</td>\n",
       "      <td>30.000000</td>\n",
       "    </tr>\n",
       "    <tr>\n",
       "      <th>mean</th>\n",
       "      <td>-0.707014</td>\n",
       "      <td>-0.936407</td>\n",
       "      <td>-0.884910</td>\n",
       "    </tr>\n",
       "    <tr>\n",
       "      <th>std</th>\n",
       "      <td>0.174991</td>\n",
       "      <td>0.160264</td>\n",
       "      <td>0.137636</td>\n",
       "    </tr>\n",
       "    <tr>\n",
       "      <th>min</th>\n",
       "      <td>-1.119460</td>\n",
       "      <td>-1.240960</td>\n",
       "      <td>-1.264698</td>\n",
       "    </tr>\n",
       "    <tr>\n",
       "      <th>25%</th>\n",
       "      <td>-0.870943</td>\n",
       "      <td>-1.041689</td>\n",
       "      <td>-0.953044</td>\n",
       "    </tr>\n",
       "    <tr>\n",
       "      <th>50%</th>\n",
       "      <td>-0.645521</td>\n",
       "      <td>-0.929262</td>\n",
       "      <td>-0.854733</td>\n",
       "    </tr>\n",
       "    <tr>\n",
       "      <th>75%</th>\n",
       "      <td>-0.591891</td>\n",
       "      <td>-0.831467</td>\n",
       "      <td>-0.782187</td>\n",
       "    </tr>\n",
       "    <tr>\n",
       "      <th>max</th>\n",
       "      <td>-0.475165</td>\n",
       "      <td>-0.637744</td>\n",
       "      <td>-0.684747</td>\n",
       "    </tr>\n",
       "  </tbody>\n",
       "</table>\n",
       "</div>"
      ],
      "text/plain": [
       "         central      joint  independent\n",
       "count  30.000000  30.000000    30.000000\n",
       "mean   -0.707014  -0.936407    -0.884910\n",
       "std     0.174991   0.160264     0.137636\n",
       "min    -1.119460  -1.240960    -1.264698\n",
       "25%    -0.870943  -1.041689    -0.953044\n",
       "50%    -0.645521  -0.929262    -0.854733\n",
       "75%    -0.591891  -0.831467    -0.782187\n",
       "max    -0.475165  -0.637744    -0.684747"
      ]
     },
     "execution_count": 16,
     "metadata": {},
     "output_type": "execute_result"
    }
   ],
   "source": [
    "dataframes = []\n",
    "dataframes.append(describe(central_df, label='central'))\n",
    "dataframes.append(describe(joint_df, label='distributed v'))\n",
    "dataframes.append(describe(indep_df, label='independent'))\n",
    "noregdf = pd.concat(dataframes, axis=1)\n",
    "noregdf"
   ]
  },
  {
   "cell_type": "markdown",
   "id": "29bb02c1",
   "metadata": {},
   "source": [
    "## 7) FINAL Leaderboard 10000"
   ]
  },
  {
   "cell_type": "code",
   "execution_count": 4,
   "id": "7264a2c2",
   "metadata": {},
   "outputs": [],
   "source": [
    "import pandas as pd\n",
    "BASE_PATH = '00_duo/01_tau05_10000/'\n",
    "\n",
    "central_df = pd.read_csv(BASE_PATH + '00_central/02/pipeline-rollouts-summary.csv', sep=',', index_col=0)\n",
    "distributed_v_df = pd.read_csv(BASE_PATH + '01_distributed_learners/02/pipeline-rollouts-summary.csv', sep=',', index_col=0)\n",
    "distributed_q_df = pd.read_csv(BASE_PATH + '02_distributed_learners/02/pipeline-rollouts-summary.csv', sep=',', index_col=0)\n",
    "independent_df = pd.read_csv(BASE_PATH + '02_independent_learners/02/pipeline-rollouts-summary.csv', sep=',', index_col=0)\n",
    "consensus_df = pd.read_csv(BASE_PATH + '03_consensus_learners/02/pipeline-rollouts-summary.csv', sep=',', index_col=0)\n",
    "\n",
    "def describe(dataframe: pd.DataFrame, label: str) -> pd.DataFrame:\n",
    "    \"\"\"Describes the dataframe\n",
    "    \n",
    "    Parameters\n",
    "    ----------\n",
    "    dataframe: pd.DataFrame\n",
    "        A dataframe with description N independent rollouts.\n",
    "        Each consisting of M timesteps.\n",
    "        Trials are in the columns and rows are statistics.\n",
    "        The result of df.describe()\n",
    "   \n",
    "    Returns\n",
    "    -------\n",
    "    dataframe: pd.DataFrame\n",
    "        A description of the average return.\n",
    "    \n",
    "    \"\"\"\n",
    "    df = dataframe.drop(['std', 'count', '25%', '50%', '75%'], axis=0)\n",
    "    ts = df.T.describe()['mean']\n",
    "    ts.name = label\n",
    "    return ts.to_frame()"
   ]
  },
  {
   "cell_type": "code",
   "execution_count": 5,
   "id": "d19f9495",
   "metadata": {},
   "outputs": [
    {
     "data": {
      "text/html": [
       "<div>\n",
       "<style scoped>\n",
       "    .dataframe tbody tr th:only-of-type {\n",
       "        vertical-align: middle;\n",
       "    }\n",
       "\n",
       "    .dataframe tbody tr th {\n",
       "        vertical-align: top;\n",
       "    }\n",
       "\n",
       "    .dataframe thead th {\n",
       "        text-align: right;\n",
       "    }\n",
       "</style>\n",
       "<table border=\"1\" class=\"dataframe\">\n",
       "  <thead>\n",
       "    <tr style=\"text-align: right;\">\n",
       "      <th></th>\n",
       "      <th>central</th>\n",
       "      <th>distributed v</th>\n",
       "      <th>distributed q</th>\n",
       "      <th>independent</th>\n",
       "      <th>consensus</th>\n",
       "    </tr>\n",
       "  </thead>\n",
       "  <tbody>\n",
       "    <tr>\n",
       "      <th>count</th>\n",
       "      <td>12.000000</td>\n",
       "      <td>12.000000</td>\n",
       "      <td>12.000000</td>\n",
       "      <td>12.000000</td>\n",
       "      <td>12.000000</td>\n",
       "    </tr>\n",
       "    <tr>\n",
       "      <th>mean</th>\n",
       "      <td>-0.726005</td>\n",
       "      <td>-0.955081</td>\n",
       "      <td>-0.711079</td>\n",
       "      <td>-0.866688</td>\n",
       "      <td>-1.865265</td>\n",
       "    </tr>\n",
       "    <tr>\n",
       "      <th>std</th>\n",
       "      <td>0.224352</td>\n",
       "      <td>0.102721</td>\n",
       "      <td>0.179390</td>\n",
       "      <td>0.135822</td>\n",
       "      <td>1.883454</td>\n",
       "    </tr>\n",
       "    <tr>\n",
       "      <th>min</th>\n",
       "      <td>-1.195369</td>\n",
       "      <td>-1.087725</td>\n",
       "      <td>-1.084424</td>\n",
       "      <td>-1.061007</td>\n",
       "      <td>-6.384996</td>\n",
       "    </tr>\n",
       "    <tr>\n",
       "      <th>25%</th>\n",
       "      <td>-0.871250</td>\n",
       "      <td>-1.032680</td>\n",
       "      <td>-0.764382</td>\n",
       "      <td>-0.958290</td>\n",
       "      <td>-1.480220</td>\n",
       "    </tr>\n",
       "    <tr>\n",
       "      <th>50%</th>\n",
       "      <td>-0.673064</td>\n",
       "      <td>-0.945419</td>\n",
       "      <td>-0.671396</td>\n",
       "      <td>-0.900654</td>\n",
       "      <td>-1.130595</td>\n",
       "    </tr>\n",
       "    <tr>\n",
       "      <th>75%</th>\n",
       "      <td>-0.603940</td>\n",
       "      <td>-0.905378</td>\n",
       "      <td>-0.635131</td>\n",
       "      <td>-0.758374</td>\n",
       "      <td>-0.980613</td>\n",
       "    </tr>\n",
       "    <tr>\n",
       "      <th>max</th>\n",
       "      <td>-0.416687</td>\n",
       "      <td>-0.796105</td>\n",
       "      <td>-0.388977</td>\n",
       "      <td>-0.661260</td>\n",
       "      <td>-0.597165</td>\n",
       "    </tr>\n",
       "  </tbody>\n",
       "</table>\n",
       "</div>"
      ],
      "text/plain": [
       "         central  distributed v  distributed q  independent  consensus\n",
       "count  12.000000      12.000000      12.000000    12.000000  12.000000\n",
       "mean   -0.726005      -0.955081      -0.711079    -0.866688  -1.865265\n",
       "std     0.224352       0.102721       0.179390     0.135822   1.883454\n",
       "min    -1.195369      -1.087725      -1.084424    -1.061007  -6.384996\n",
       "25%    -0.871250      -1.032680      -0.764382    -0.958290  -1.480220\n",
       "50%    -0.673064      -0.945419      -0.671396    -0.900654  -1.130595\n",
       "75%    -0.603940      -0.905378      -0.635131    -0.758374  -0.980613\n",
       "max    -0.416687      -0.796105      -0.388977    -0.661260  -0.597165"
      ]
     },
     "execution_count": 5,
     "metadata": {},
     "output_type": "execute_result"
    }
   ],
   "source": [
    "dataframes = []\n",
    "dataframes.append(describe(central_df, label='central'))\n",
    "dataframes.append(describe(distributed_v_df, label='distributed v'))\n",
    "dataframes.append(describe(distributed_q_df, label='distributed q'))\n",
    "dataframes.append(describe(independent_df, label='independent'))\n",
    "dataframes.append(describe(consensus_df, label='consensus'))\n",
    "noregdf = pd.concat(dataframes, axis=1)\n",
    "noregdf"
   ]
  }
 ],
 "metadata": {
  "kernelspec": {
   "display_name": "Python 3 (ipykernel)",
   "language": "python",
   "name": "python3"
  },
  "language_info": {
   "codemirror_mode": {
    "name": "ipython",
    "version": 3
   },
   "file_extension": ".py",
   "mimetype": "text/x-python",
   "name": "python",
   "nbconvert_exporter": "python",
   "pygments_lexer": "ipython3",
   "version": "3.9.6"
  }
 },
 "nbformat": 4,
 "nbformat_minor": 5
}
