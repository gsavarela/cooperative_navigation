{
 "cells": [
  {
   "cell_type": "markdown",
   "id": "b0fbce7e",
   "metadata": {},
   "source": [
    "# Recap\n",
    "\n",
    "- We tested the single agent setting for a different task.\n",
    "- The landmarks were always fixed at time of the environment initialization.\n",
    "- It was shown that the agent learned to navigate to any part of the map.\n",
    "- Particularly, when the agent's starting coordinate was kept fixed and overflow would happen. Random restart is an essencial part of exploration.\n",
    "- The optimal policies are not deterministic -- the temperature parameter $\\tau$ that regulates the entropy was tested for **1**, **2**, **3**, **5** and **10**.\n",
    "\n",
    "## Findings\n",
    "\n",
    "1. The most useful task is to randomly restart the landmarks.\n",
    "2. Regularization, via parameter clipping, improved learning.\n",
    "3. The optimal value for $\\tau = 5.0$.\n"
   ]
  },
  {
   "cell_type": "markdown",
   "id": "e680bbcd",
   "metadata": {},
   "source": [
    "# Duo Task\n",
    "\n",
    "## Goal:\n",
    "\n",
    "### Agents must learn how to navigate to a target landmark, while avoiding other agents.\n",
    "\n",
    "- Both agents and landmarks are restarted at the begining of each episode. And agents are assigned a landmark they must navigate to, they must through trial and error be find which landmark they were assigned to.\n",
    "- States are the coordinates to the other agent and to both landmarks.\n",
    "- Reward is defined by the distance from an agent to its assigned landmark. If they collide both receive an extra reward=-1.\n",
    "\n",
    "\n",
    "\n",
    "The objective of this notebook is to compare three learning settings.\n",
    "\n",
    "1. Centralized Actor Critic\n",
    "\n",
    "    - Single agent.\n",
    "    - Fully observable setting.\n",
    "    - Learnings using the average reward from both players.\n",
    "2. Cooperative Actor Critic\n",
    "\n",
    "    - Independent agents.\n",
    "    - Fully observable setting.\n",
    "    - Learnings using the average reward from both players.\n",
    "\n",
    "3. Independent Learners Actor Critic\n",
    "\n",
    "    - Independent agents.\n",
    "    - Fully observable setting.\n",
    "    - Individual rewards.\n",
    "\n",
    "## Section A: First attempt.\n",
    "\n",
    "\n",
    "## Settings\n",
    "\n",
    "\n",
    "1. We compare the three models above. \n",
    "2. Initially, $\\tau = 100$ and it falls linearly with the number of episodes (`explore_episodes=3000`). \n",
    "3. Each test dataframe consists of the DataFrame.describe() statistics from **N** = 30 independent random trials, each of which consisting of rollouts of `M=100`, with $\\tau$ set to a predetermined value.\n",
    "\n",
    "Parameters:\n",
    "```\n",
    "\"\"\"Configuration\"\"\"\n",
    "# The hyperparameter for the environment: Number of agents.\n",
    "N_AGENTS = 2\n",
    "# The pipeline agent\n",
    "AGENT_TYPE = 'ActorCriticCentral'\n",
    "# Alpha learning rate for the critic\n",
    "ALPHA = 0.5\n",
    "# Learning rate for the actor\n",
    "BETA = 0.3\n",
    "# Final temperature parameter\n",
    "TAU = 5.0\n",
    "# The weighting for the moving average\n",
    "ZETA = 0.01\n",
    "# The episodes with temperature greater than TAU\n",
    "EXPLORE_EPISODES = 3000\n",
    "# The total number of training episodes.\n",
    "EPISODES = 7500\n",
    "# Applies temperature parameter from 100-TAU\n",
    "EXPLORE = True  # WHETER OR NOT WE USE EXPLORATION\n",
    "CONSENSUS_MATRIX_TYPE = 'metropolis'\n",
    "# Maximum number of edges.\n",
    "CONSENSUS_MAX_EDGES = 0\n",
    "# Stop training at every checkpoint_interval\n",
    "CHECKPOINT_INTERVAL = 500\n",
    "# Evaluate checkpoint for checkpoint evaluations\n",
    "CHECKPOINT_EVALUATIONS = 32\n",
    "# Training_cycle = train for checkpoint interval + checkpoint_evaluation\n",
    "TRAINING_CYCLES = EPISODES // CHECKPOINT_INTERVAL\n",
    "# Seed for individual runs, e.g, `python central.py`\n",
    "SEED = 1\n",
    "# The path that the experiments will be saved at.\n",
    "BASE_PATH = 'data/00_duo_w08'\n",
    "# The number of pipeline workers\n",
    "N_WORKERS = 15\n",
    "# Those are the training random seeds, i.e., `.\\pipeline`\n",
    "PIPELINE_SEEDS = [\n",
    "    47,\n",
    "    48,\n",
    "    49,\n",
    "    50,\n",
    "    51,\n",
    "    52,\n",
    "    53,\n",
    "    54,\n",
    "    55,\n",
    "    56,\n",
    "    57,\n",
    "    58,\n",
    "    59,\n",
    "    60,\n",
    "    61,\n",
    "    62,\n",
    "    63,\n",
    "    64,\n",
    "    65,\n",
    "    66,\n",
    "    67,\n",
    "    68,\n",
    "    69,\n",
    "    70,\n",
    "    71,\n",
    "    72,\n",
    "    73,\n",
    "    74,\n",
    "    75,\n",
    "    76\n",
    "]\n",
    "\n",
    "```"
   ]
  },
  {
   "cell_type": "markdown",
   "id": "cc2ebcbe",
   "metadata": {},
   "source": [
    "## 1) Central Agent"
   ]
  },
  {
   "cell_type": "code",
   "execution_count": 1,
   "id": "05cb51da",
   "metadata": {},
   "outputs": [],
   "source": [
    "import pandas as pd\n",
    "BASE_PATH = '08_duo_torch/'\n",
    "\n",
    "central_df = pd.read_csv(BASE_PATH + '01_central_torch/02/pipeline-rollouts-summary.csv', sep=',', index_col=0)\n",
    "indep_df = pd.read_csv(BASE_PATH + '03_independent_learners/02/pipeline-rollouts-summary.csv', sep=',', index_col=0)\n",
    "\n",
    "def describe(dataframe: pd.DataFrame, label: str) -> pd.DataFrame:\n",
    "    \"\"\"Describes the dataframe\n",
    "    \n",
    "    Parameters\n",
    "    ----------\n",
    "    dataframe: pd.DataFrame\n",
    "        A dataframe with description N independent rollouts.\n",
    "        Each consisting of M timesteps.\n",
    "        Trials are in the columns and rows are statistics.\n",
    "        The result of df.describe()\n",
    "   \n",
    "    Returns\n",
    "    -------\n",
    "    dataframe: pd.DataFrame\n",
    "        A description of the average return.\n",
    "    \n",
    "    \"\"\"\n",
    "    df = dataframe.drop(['std', 'count', '25%', '50%', '75%'], axis=0)\n",
    "    ts = df.T.describe()['mean']\n",
    "    ts.name = label\n",
    "    return ts.to_frame()"
   ]
  },
  {
   "cell_type": "code",
   "execution_count": 2,
   "id": "c114ad29",
   "metadata": {},
   "outputs": [
    {
     "data": {
      "text/html": [
       "<div>\n",
       "<style scoped>\n",
       "    .dataframe tbody tr th:only-of-type {\n",
       "        vertical-align: middle;\n",
       "    }\n",
       "\n",
       "    .dataframe tbody tr th {\n",
       "        vertical-align: top;\n",
       "    }\n",
       "\n",
       "    .dataframe thead th {\n",
       "        text-align: right;\n",
       "    }\n",
       "</style>\n",
       "<table border=\"1\" class=\"dataframe\">\n",
       "  <thead>\n",
       "    <tr style=\"text-align: right;\">\n",
       "      <th></th>\n",
       "      <th>central</th>\n",
       "      <th>independent</th>\n",
       "    </tr>\n",
       "  </thead>\n",
       "  <tbody>\n",
       "    <tr>\n",
       "      <th>count</th>\n",
       "      <td>30.000000</td>\n",
       "      <td>30.000000</td>\n",
       "    </tr>\n",
       "    <tr>\n",
       "      <th>mean</th>\n",
       "      <td>-1.441451</td>\n",
       "      <td>-1.436881</td>\n",
       "    </tr>\n",
       "    <tr>\n",
       "      <th>std</th>\n",
       "      <td>0.621149</td>\n",
       "      <td>0.755187</td>\n",
       "    </tr>\n",
       "    <tr>\n",
       "      <th>min</th>\n",
       "      <td>-2.676111</td>\n",
       "      <td>-3.139894</td>\n",
       "    </tr>\n",
       "    <tr>\n",
       "      <th>25%</th>\n",
       "      <td>-1.863735</td>\n",
       "      <td>-1.909306</td>\n",
       "    </tr>\n",
       "    <tr>\n",
       "      <th>50%</th>\n",
       "      <td>-1.315542</td>\n",
       "      <td>-1.200203</td>\n",
       "    </tr>\n",
       "    <tr>\n",
       "      <th>75%</th>\n",
       "      <td>-0.971401</td>\n",
       "      <td>-0.951459</td>\n",
       "    </tr>\n",
       "    <tr>\n",
       "      <th>max</th>\n",
       "      <td>-0.292699</td>\n",
       "      <td>-0.312311</td>\n",
       "    </tr>\n",
       "  </tbody>\n",
       "</table>\n",
       "</div>"
      ],
      "text/plain": [
       "         central  independent\n",
       "count  30.000000    30.000000\n",
       "mean   -1.441451    -1.436881\n",
       "std     0.621149     0.755187\n",
       "min    -2.676111    -3.139894\n",
       "25%    -1.863735    -1.909306\n",
       "50%    -1.315542    -1.200203\n",
       "75%    -0.971401    -0.951459\n",
       "max    -0.292699    -0.312311"
      ]
     },
     "execution_count": 2,
     "metadata": {},
     "output_type": "execute_result"
    }
   ],
   "source": [
    "dataframes = []\n",
    "dataframes.append(describe(central_df, label='central'))\n",
    "dataframes.append(describe(indep_df, label='independent'))\n",
    "noregdf = pd.concat(dataframes, axis=1)\n",
    "noregdf"
   ]
  },
  {
   "cell_type": "markdown",
   "id": "e11bc8cf",
   "metadata": {},
   "source": [
    "BASE_PATH = '08_duo_torch/00_central/02'\n",
    "\n",
    "### 1.1 Rollout Simulation\n",
    "\n",
    "GIF from the best performing training.\n",
    "\n",
    "![pipeline-central-simulation](08_duo_torch/01_central_torch/02/simulation-pipeline-best.gif)"
   ]
  },
  {
   "cell_type": "markdown",
   "id": "6e2ee08b",
   "metadata": {},
   "source": [
    "### 1.2 Rollout Graph\n",
    "\n",
    "```\n",
    "max_average_reward:-0.2927      simulation_reward:-0.8105\n",
    "```\n",
    "![pipeline-central-simulation](08_duo_torch/01_central_torch/02/evaluation_rollout_n2_num04.png)"
   ]
  },
  {
   "cell_type": "code",
   "execution_count": 4,
   "id": "37bce869",
   "metadata": {},
   "outputs": [
    {
     "data": {
      "text/plain": [
       "Unnamed: 0    4950.000000\n",
       "1              -59.192096\n",
       "dtype: float64"
      ]
     },
     "execution_count": 4,
     "metadata": {},
     "output_type": "execute_result"
    }
   ],
   "source": [
    "df = pd.read_csv('08_duo_torch/01_central_torch/02/evaluation_rollout-num04.csv', sep=',')\n",
    "df.sum()"
   ]
  },
  {
   "cell_type": "markdown",
   "id": "1d7d4c57",
   "metadata": {},
   "source": [
    "### 1.3 Train<a name=\"A-1.3\"></a> \n",
    "\n",
    "\n",
    "\n",
    "![pipeline-central-train-30](08_duo_torch/01_central_torch/02/train_pipeline_m30.png)\n",
    "![rollout-central-train-30](08_duo_torch/01_central_torch/02/train_rollout_m30.png)"
   ]
  },
  {
   "cell_type": "markdown",
   "id": "590d0438",
   "metadata": {},
   "source": [
    "### A.1.4 Collision "
   ]
  },
  {
   "cell_type": "code",
   "execution_count": 5,
   "id": "49fae014",
   "metadata": {},
   "outputs": [
    {
     "data": {
      "text/plain": [
       "<AxesSubplot:title={'center':'Collisions per Episode'}, xlabel='episode'>"
      ]
     },
     "execution_count": 5,
     "metadata": {},
     "output_type": "execute_result"
    },
    {
     "data": {
      "image/png": "[encoded data removed]",
      "text/plain": [
       "<Figure size 864x360 with 1 Axes>"
      ]
     },
     "metadata": {
      "needs_background": "light"
     },
     "output_type": "display_data"
    }
   ],
   "source": [
    "FIG_SIZE_LARGE = (12.0, 5.0)\n",
    "FIG_SIZE_SMALL = (6.0, 4.0)\n",
    "import pandas as pd\n",
    "BASE_PATH = '08_duo_torch/01_central_torch/02'\n",
    "df = pd.read_csv(BASE_PATH + '/pipeline-train-collisions.csv', sep=',', index_col=0)\n",
    "df['episode'] = df.index // 100\n",
    "df = df.set_index('episode', inplace=False, drop=True)\n",
    "df = df.sum(axis=1).to_frame().rename(columns={0: 'collisions'})\n",
    "df = df.groupby(by='episode', axis=0)['collisions'].sum()\n",
    "df.to_frame().loc[:, 'collisions'].plot(title='Collisions per Episode', figsize=FIG_SIZE_LARGE)"
   ]
  },
  {
   "cell_type": "markdown",
   "id": "5ca54952",
   "metadata": {},
   "source": [
    "### A.1.5 Coupling"
   ]
  },
  {
   "cell_type": "code",
   "execution_count": 6,
   "id": "8b2f7063",
   "metadata": {},
   "outputs": [
    {
     "data": {
      "text/plain": [
       "<AxesSubplot:title={'center':'Couplings per Episode'}, xlabel='episode'>"
      ]
     },
     "execution_count": 6,
     "metadata": {},
     "output_type": "execute_result"
    },
    {
     "data": {
      "image/png": "[encoded data removed]",
      "text/plain": [
       "<Figure size 864x360 with 1 Axes>"
      ]
     },
     "metadata": {
      "needs_background": "light"
     },
     "output_type": "display_data"
    }
   ],
   "source": [
    "BASE_PATH = '08_duo_torch/01_central_torch/02'\n",
    "df = pd.read_csv(BASE_PATH + '/pipeline-train-couplings.csv', sep=',', index_col=0)\n",
    "df['episode'] = df.index // 100\n",
    "df = df.set_index('episode', inplace=False, drop=True)\n",
    "df = df.sum(axis=1).to_frame().rename(columns={0: 'couplings'})\n",
    "df = df.groupby(by='episode', axis=0)['couplings'].sum()\n",
    "df.to_frame().loc[:, 'couplings'].plot(title='Couplings per Episode', figsize=FIG_SIZE_LARGE)"
   ]
  },
  {
   "cell_type": "markdown",
   "id": "5e48c6c7",
   "metadata": {},
   "source": [
    "## 2) Independent Learners Actor Critic\n",
    "\n",
    "GIF from the best performing training.\n",
    "\n",
    "BASE_PATH = '08_duo_torch/03_independent_learners/02'\n",
    "\n",
    "![pipeline-independent-simulation](08_duo_torch/03_independent_learners/02/simulation-pipeline-best.gif)"
   ]
  },
  {
   "cell_type": "markdown",
   "id": "0afa7c39",
   "metadata": {},
   "source": [
    "### 2.2 Rollout Graph\n",
    "\n",
    "```\n",
    "max_average_reward:-0.3123      simulation_reward:-0.4147\n",
    "```\n",
    "\n",
    "![pipeline-distributed-rollout](08_duo_torch/03_independent_learners/02/evaluation_rollout_n2_num11.png)"
   ]
  },
  {
   "cell_type": "code",
   "execution_count": 14,
   "id": "c04e264d",
   "metadata": {},
   "outputs": [
    {
     "data": {
      "text/plain": [
       "Unnamed: 0    4950.00000\n",
       "1              -75.30002\n",
       "dtype: float64"
      ]
     },
     "execution_count": 14,
     "metadata": {},
     "output_type": "execute_result"
    }
   ],
   "source": [
    "df = pd.read_csv('08_duo_torch/03_independent_learners/02/evaluation_rollout-num09.csv', sep=',')\n",
    "df.sum()"
   ]
  },
  {
   "cell_type": "markdown",
   "id": "2b40213c",
   "metadata": {},
   "source": [
    "### 2.3 Train<a name=\"A-2.3\"></a> \n",
    "\n",
    "\n",
    "\n",
    "![pipeline-distributed-train-30](08_duo_torch/03_independent_learners/02/train_pipeline_m30.png)\n",
    "![rollout-distributed-train-30](08_duo_torch/03_independent_learners/02/train_rollout_m30.png)"
   ]
  },
  {
   "cell_type": "markdown",
   "id": "4e372264",
   "metadata": {},
   "source": [
    "### A.2.4 Collision "
   ]
  },
  {
   "cell_type": "code",
   "execution_count": 12,
   "id": "00dc6f20",
   "metadata": {},
   "outputs": [
    {
     "data": {
      "text/plain": [
       "<AxesSubplot:title={'center':'Collisions per Episode'}, xlabel='episode'>"
      ]
     },
     "execution_count": 12,
     "metadata": {},
     "output_type": "execute_result"
    },
    {
     "data": {
      "image/png": "[encoded data removed]",
      "text/plain": [
       "<Figure size 864x360 with 1 Axes>"
      ]
     },
     "metadata": {
      "needs_background": "light"
     },
     "output_type": "display_data"
    }
   ],
   "source": [
    "FIG_SIZE_LARGE = (12.0, 5.0)\n",
    "FIG_SIZE_SMALL = (6.0, 4.0)\n",
    "import pandas as pd\n",
    "BASE_PATH = '08_duo_torch/03_independent_learners/02'\n",
    "df = pd.read_csv(BASE_PATH + '/pipeline-train-collisions.csv', sep=',', index_col=0)\n",
    "df['episode'] = df.index // 100\n",
    "df = df.set_index('episode', inplace=False, drop=True)\n",
    "df = df.sum(axis=1).to_frame().rename(columns={0: 'collisions'})\n",
    "df = df.groupby(by='episode', axis=0)['collisions'].sum()\n",
    "df.to_frame().loc[:, 'collisions'].plot(title='Collisions per Episode', figsize=FIG_SIZE_LARGE)"
   ]
  },
  {
   "cell_type": "markdown",
   "id": "d83104c8",
   "metadata": {},
   "source": [
    "### A.2.5 Coupling"
   ]
  },
  {
   "cell_type": "code",
   "execution_count": 13,
   "id": "d9fc02c4",
   "metadata": {},
   "outputs": [
    {
     "data": {
      "text/plain": [
       "<AxesSubplot:title={'center':'Couplings per Episode'}, xlabel='episode'>"
      ]
     },
     "execution_count": 13,
     "metadata": {},
     "output_type": "execute_result"
    },
    {
     "data": {
      "image/png": "[encoded data removed]",
      "text/plain": [
       "<Figure size 864x360 with 1 Axes>"
      ]
     },
     "metadata": {
      "needs_background": "light"
     },
     "output_type": "display_data"
    }
   ],
   "source": [
    "BASE_PATH = '08_duo_torch/03_independent_learners/02'\n",
    "df = pd.read_csv(BASE_PATH + '/pipeline-train-couplings.csv', sep=',', index_col=0)\n",
    "df['episode'] = df.index // 100\n",
    "df = df.set_index('episode', inplace=False, drop=True)\n",
    "df = df.sum(axis=1).to_frame().rename(columns={0: 'couplings'})\n",
    "df = df.groupby(by='episode', axis=0)['couplings'].sum()\n",
    "df.to_frame().loc[:, 'couplings'].plot(title='Couplings per Episode', figsize=FIG_SIZE_LARGE)"
   ]
  },
  {
   "cell_type": "markdown",
   "id": "7f13df10",
   "metadata": {},
   "source": [
    "## 3) Independent Learners Actor Critic\n",
    "\n",
    "GIF from the best performing training.\n",
    "\n",
    "\n",
    "![pipeline-independent-simulation](00_duo_w08v2/02_independent_learners/02/simulation-pipeline-best.gif)"
   ]
  },
  {
   "cell_type": "markdown",
   "id": "91de82f5",
   "metadata": {},
   "source": [
    "### A.3.2 Rollout Graph\n",
    "\n",
    "\n",
    "![pipeline-independent-rollout](00_duo_w08v2/02_independent_learners/02/evaluation_rollout_n2_num18.png)"
   ]
  },
  {
   "cell_type": "code",
   "execution_count": 47,
   "id": "9f6e7d36",
   "metadata": {},
   "outputs": [
    {
     "data": {
      "text/plain": [
       "Unnamed: 0    4950.000000\n",
       "1              -44.671239\n",
       "dtype: float64"
      ]
     },
     "execution_count": 47,
     "metadata": {},
     "output_type": "execute_result"
    }
   ],
   "source": [
    "df = pd.read_csv('00_duo_w08v2/02_independent_learners/02/evaluation_rollout-num04.csv', sep=',')\n",
    "df.sum()"
   ]
  },
  {
   "cell_type": "markdown",
   "id": "3bc0553c",
   "metadata": {},
   "source": [
    "### 3.3 Train <a name=\"A-3.3\"></a> \n",
    "\n",
    "\n",
    "\n",
    "![pipeline-independent-train-30](00_duo_w08/02_independent_learners/02/train_pipeline_m30.png)\n",
    "![rollout-independent-train-30](00_duo_w08/02_independent_learners/02/train_rollout_m30.png)"
   ]
  },
  {
   "cell_type": "markdown",
   "id": "2b80b921",
   "metadata": {},
   "source": [
    "### A.3.3 Collision "
   ]
  },
  {
   "cell_type": "code",
   "execution_count": 49,
   "id": "3e7d5ca9",
   "metadata": {},
   "outputs": [
    {
     "data": {
      "text/plain": [
       "<AxesSubplot:title={'center':'Collisions per Episode'}, xlabel='episode'>"
      ]
     },
     "execution_count": 49,
     "metadata": {},
     "output_type": "execute_result"
    },
    {
     "data": {
      "image/png": "[encoded data removed]",
      "text/plain": [
       "<Figure size 864x360 with 1 Axes>"
      ]
     },
     "metadata": {
      "needs_background": "light"
     },
     "output_type": "display_data"
    }
   ],
   "source": [
    "FIG_SIZE_LARGE = (12.0, 5.0)\n",
    "FIG_SIZE_SMALL = (6.0, 4.0)\n",
    "import pandas as pd\n",
    "BASE_PATH = '00_duo_w08v2/02_independent_learners/02/'\n",
    "df = pd.read_csv(BASE_PATH + '/pipeline-train-collisions.csv', sep=',', index_col=0)\n",
    "df['episode'] = df.index // 100\n",
    "df = df.set_index('episode', inplace=False, drop=True)\n",
    "df = df.sum(axis=1).to_frame().rename(columns={0: 'collisions'})\n",
    "df = df.groupby(by='episode', axis=0)['collisions'].sum()\n",
    "df.to_frame().loc[:, 'collisions'].plot(title='Collisions per Episode', figsize=FIG_SIZE_LARGE)"
   ]
  },
  {
   "cell_type": "markdown",
   "id": "5fcc1e34",
   "metadata": {},
   "source": [
    "### A.2.5 Coupling"
   ]
  },
  {
   "cell_type": "code",
   "execution_count": 48,
   "id": "53609b0b",
   "metadata": {},
   "outputs": [
    {
     "data": {
      "text/plain": [
       "<AxesSubplot:title={'center':'Couplings per Episode'}, xlabel='episode'>"
      ]
     },
     "execution_count": 48,
     "metadata": {},
     "output_type": "execute_result"
    },
    {
     "data": {
      "image/png": "[encoded data removed]",
      "text/plain": [
       "<Figure size 864x360 with 1 Axes>"
      ]
     },
     "metadata": {
      "needs_background": "light"
     },
     "output_type": "display_data"
    }
   ],
   "source": [
    "BASE_PATH = '00_duo_w08v2/02_independent_learners/02'\n",
    "df = pd.read_csv(BASE_PATH + '/pipeline-train-couplings.csv', sep=',', index_col=0)\n",
    "df['episode'] = df.index // 100\n",
    "df = df.set_index('episode', inplace=False, drop=True)\n",
    "df = df.sum(axis=1).to_frame().rename(columns={0: 'couplings'})\n",
    "df = df.groupby(by='episode', axis=0)['couplings'].sum()\n",
    "df.to_frame().loc[:, 'couplings'].plot(title='Couplings per Episode', figsize=FIG_SIZE_LARGE)"
   ]
  },
  {
   "cell_type": "markdown",
   "id": "15b20f5f",
   "metadata": {},
   "source": [
    "## 4) Leaderboard <a name=\"A-leaderboard\"></a> "
   ]
  },
  {
   "cell_type": "code",
   "execution_count": 26,
   "id": "e339b39c",
   "metadata": {},
   "outputs": [
    {
     "data": {
      "text/plain": [
       "47   -1.747653\n",
       "48   -0.865905\n",
       "49   -0.872531\n",
       "50   -1.383480\n",
       "51   -1.381466\n",
       "52   -0.886356\n",
       "53   -1.225550\n",
       "54   -1.075245\n",
       "55   -1.335412\n",
       "56   -0.763532\n",
       "57   -1.352567\n",
       "58   -0.674196\n",
       "59   -0.906326\n",
       "60   -1.213349\n",
       "61   -0.884846\n",
       "62   -0.674232\n",
       "63   -1.058279\n",
       "64   -0.579872\n",
       "65   -0.938370\n",
       "66   -0.778399\n",
       "67   -0.681507\n",
       "68   -1.089986\n",
       "69   -0.852335\n",
       "70   -1.065872\n",
       "71   -0.750138\n",
       "72   -0.921136\n",
       "73   -1.414591\n",
       "74   -0.921678\n",
       "75   -1.339798\n",
       "76   -0.494297\n",
       "dtype: float64"
      ]
     },
     "execution_count": 26,
     "metadata": {},
     "output_type": "execute_result"
    }
   ],
   "source": [
    "joint_df = pd.read_csv(BASE_PATH + '01_distributed_learners/02/pipeline-rollouts.csv', sep=',', index_col=0)\n",
    "joint_df.mean(axis=0)"
   ]
  },
  {
   "cell_type": "code",
   "execution_count": 28,
   "id": "29dfead0",
   "metadata": {},
   "outputs": [
    {
     "data": {
      "text/plain": [
       "51   -0.446712\n",
       "66   -0.507351\n",
       "63   -0.529060\n",
       "dtype: float64"
      ]
     },
     "execution_count": 28,
     "metadata": {},
     "output_type": "execute_result"
    }
   ],
   "source": [
    "independent_df = pd.read_csv(BASE_PATH + '02_independent_learners/02/pipeline-rollouts-top03.csv', sep=',', index_col=0)\n",
    "independent_df.mean(axis=0)"
   ]
  },
  {
   "cell_type": "code",
   "execution_count": 33,
   "id": "f60cdce6",
   "metadata": {},
   "outputs": [
    {
     "ename": "AttributeError",
     "evalue": "'numpy.float64' object has no attribute 'index'",
     "output_type": "error",
     "traceback": [
      "\u001b[0;31m---------------------------------------------------------------------------\u001b[0m",
      "\u001b[0;31mAttributeError\u001b[0m                            Traceback (most recent call last)",
      "\u001b[0;32m/tmp/ipykernel_30487/684369015.py\u001b[0m in \u001b[0;36m<module>\u001b[0;34m\u001b[0m\n\u001b[0;32m----> 1\u001b[0;31m \u001b[0mindependent_df\u001b[0m\u001b[0;34m.\u001b[0m\u001b[0mmean\u001b[0m\u001b[0;34m(\u001b[0m\u001b[0maxis\u001b[0m\u001b[0;34m=\u001b[0m\u001b[0;36m0\u001b[0m\u001b[0;34m)\u001b[0m\u001b[0;34m.\u001b[0m\u001b[0mmin\u001b[0m\u001b[0;34m(\u001b[0m\u001b[0;34m)\u001b[0m\u001b[0;34m.\u001b[0m\u001b[0mindex\u001b[0m\u001b[0;34m\u001b[0m\u001b[0;34m\u001b[0m\u001b[0m\n\u001b[0m",
      "\u001b[0;31mAttributeError\u001b[0m: 'numpy.float64' object has no attribute 'index'"
     ]
    }
   ],
   "source": [
    "independent_df.mean(axis=0).min().index"
   ]
  },
  {
   "cell_type": "code",
   "execution_count": 38,
   "id": "4ab5d8d7",
   "metadata": {},
   "outputs": [
    {
     "data": {
      "text/plain": [
       "'76'"
      ]
     },
     "execution_count": 38,
     "metadata": {},
     "output_type": "execute_result"
    }
   ],
   "source": [
    "joint_df = pd.read_csv(BASE_PATH + '01_distributed_learners/02/pipeline-rollouts-top03.csv', sep=',', index_col=0)\n",
    "joint_df.mean(axis=0).idxmax()"
   ]
  },
  {
   "cell_type": "markdown",
   "id": "86686116",
   "metadata": {},
   "source": [
    "1. The first thing to note is that the Evaluation Rollouts show that the central agent presents one colliison, while the joint action learner presents two collisions and the independent learner presents three collisions. Indicating that **cooperation** is a helpful means to avoid collisions and that **coordination** is an effective way to achieve that.\n",
    "2. However, we see from table [Leaderboard 1000](#leaderboard-1000) that the central agent underperforms. A hint of the reason is given by the training plots [Plot 1.3 Central Training](#A-1.3) [Plot 2.3 Joint Training](#A-2.3), [Plot 3.3 Independent Training](#A-3.3). It seems that the central agent hasn't had change to learn -- It must learn 125 actions while each other agent has to learn from 5 actions.\n"
   ]
  },
  {
   "cell_type": "markdown",
   "id": "0393b690",
   "metadata": {},
   "source": [
    "# Section B: Successful Attempt<a name=\"B-section\"></a> \n",
    "\n",
    "We set `episodes=5000` and `explore_episodes=4975`."
   ]
  },
  {
   "cell_type": "markdown",
   "id": "09c547be",
   "metadata": {},
   "source": [
    "## 1) Central Agent"
   ]
  },
  {
   "cell_type": "markdown",
   "id": "6c5e439a",
   "metadata": {},
   "source": [
    "BASE_PATH = 'data/16_duo/03_tau05/5000/00_central/02'\n",
    "\n",
    "### 1.1 Rollout Simulation\n",
    "\n",
    "GIF from the best performing training.\n",
    "\n",
    "![pipeline-central-simulation](16_duo/03_tau05/5000/00_central/02/simulation-pipeline-best.gif)"
   ]
  },
  {
   "cell_type": "markdown",
   "id": "9daa439e",
   "metadata": {},
   "source": [
    "### 1.2 Rollout Graph\n",
    "\n",
    "\n",
    "![pipeline-central-simulation](16_duo/03_tau05/5000/00_central/02/evaluation_rollout_num06.png)"
   ]
  },
  {
   "cell_type": "markdown",
   "id": "e0aa2b48",
   "metadata": {},
   "source": [
    "### 1.3 Train<a name=\"A-1.3\"></a> \n",
    "\n",
    "\n",
    "\n",
    "![pipeline-central-train-30](16_duo/03_tau05/5000/00_central/02/train_pipeline_m30.png)\n",
    "![rollout-central-train-30](16_duo/03_tau05/5000/00_central/02/train_rollout_m30.png)"
   ]
  },
  {
   "cell_type": "markdown",
   "id": "da159332",
   "metadata": {},
   "source": [
    "## 2) Cooperative Actor Critic\n",
    "\n",
    "GIF from the best performing training.\n",
    "\n",
    "\n",
    "![pipeline-joint-simulation](16_duo/03_tau05/5000/01_joint_learners/02/simulation-pipeline-best.gif)"
   ]
  },
  {
   "cell_type": "markdown",
   "id": "8ae3c1aa",
   "metadata": {},
   "source": [
    "### 2.2 Rollout Graph\n",
    "\n",
    "\n",
    "![pipeline-joint-rollout](16_duo/03_tau05/5000/01_joint_learners/02/evaluation_rollout_num01.png)"
   ]
  },
  {
   "cell_type": "markdown",
   "id": "e747f159",
   "metadata": {},
   "source": [
    "### 2.3 Train<a name=\"B-2.3\"></a> \n",
    "\n",
    "\n",
    "\n",
    "![pipeline-joint-train-30](16_duo/03_tau05/5000/01_joint_learners/02/train_pipeline_m30.png)\n",
    "![rollout-joint-train-30](16_duo/03_tau05/5000/01_joint_learners/02/train_rollout_m30.png)"
   ]
  },
  {
   "cell_type": "markdown",
   "id": "42efadaf",
   "metadata": {},
   "source": [
    "## 3) Independent Learners Actor Critic\n",
    "\n",
    "GIF from the best performing training.\n",
    "\n",
    "\n",
    "![pipeline-independent-simulation](16_duo/03_tau05/5000/02_independent_learners/02/simulation-pipeline-best.gif)"
   ]
  },
  {
   "cell_type": "markdown",
   "id": "0ad2b3ae",
   "metadata": {},
   "source": [
    "### 3.2 Rollout Graph\n",
    "\n",
    "\n",
    "![pipeline-independent-rollout](16_duo/03_tau05/5000/02_independent_learners/02/evaluation_rollout_num01.png)"
   ]
  },
  {
   "cell_type": "markdown",
   "id": "a72cdbda",
   "metadata": {},
   "source": [
    "### 3.3 Train <a name=\"B-3.3\"></a> \n",
    "\n",
    "\n",
    "\n",
    "![pipeline-independent-train-30](16_duo/03_tau05/5000/02_independent_learners/02/train_pipeline_m30.png)\n",
    "![rollout-independent-train-30](16_duo/03_tau05/5000/02_independent_learners/02/train_rollout_m30.png)"
   ]
  },
  {
   "cell_type": "markdown",
   "id": "c3905dea",
   "metadata": {},
   "source": [
    "## 4) Leaderboard 5000<a name=\"B-leaderboard\"></a> "
   ]
  },
  {
   "cell_type": "code",
   "execution_count": 34,
   "id": "54c6eba0",
   "metadata": {},
   "outputs": [],
   "source": [
    "import pandas as pd\n",
    "BASE_PATH = '16_duo/03_tau05/5000/'\n",
    "\n",
    "central_df = pd.read_csv(BASE_PATH + '00_central/02/pipeline.csv', sep=',', index_col=0)\n",
    "joint_df = pd.read_csv(BASE_PATH + '01_joint_learners/02/pipeline.csv', sep=',', index_col=0)\n",
    "indep_df = pd.read_csv(BASE_PATH + '02_independent_learners/02/pipeline.csv', sep=',', index_col=0)"
   ]
  },
  {
   "cell_type": "code",
   "execution_count": 35,
   "id": "218f8449",
   "metadata": {},
   "outputs": [
    {
     "data": {
      "text/html": [
       "<div>\n",
       "<style scoped>\n",
       "    .dataframe tbody tr th:only-of-type {\n",
       "        vertical-align: middle;\n",
       "    }\n",
       "\n",
       "    .dataframe tbody tr th {\n",
       "        vertical-align: top;\n",
       "    }\n",
       "\n",
       "    .dataframe thead th {\n",
       "        text-align: right;\n",
       "    }\n",
       "</style>\n",
       "<table border=\"1\" class=\"dataframe\">\n",
       "  <thead>\n",
       "    <tr style=\"text-align: right;\">\n",
       "      <th></th>\n",
       "      <th>central</th>\n",
       "      <th>joint</th>\n",
       "      <th>indepent</th>\n",
       "    </tr>\n",
       "  </thead>\n",
       "  <tbody>\n",
       "    <tr>\n",
       "      <th>count</th>\n",
       "      <td>30.000000</td>\n",
       "      <td>30.000000</td>\n",
       "      <td>30.000000</td>\n",
       "    </tr>\n",
       "    <tr>\n",
       "      <th>mean</th>\n",
       "      <td>-0.707014</td>\n",
       "      <td>-0.936407</td>\n",
       "      <td>-0.884910</td>\n",
       "    </tr>\n",
       "    <tr>\n",
       "      <th>std</th>\n",
       "      <td>0.174991</td>\n",
       "      <td>0.160264</td>\n",
       "      <td>0.137636</td>\n",
       "    </tr>\n",
       "    <tr>\n",
       "      <th>min</th>\n",
       "      <td>-1.119460</td>\n",
       "      <td>-1.240960</td>\n",
       "      <td>-1.264698</td>\n",
       "    </tr>\n",
       "    <tr>\n",
       "      <th>25%</th>\n",
       "      <td>-0.870943</td>\n",
       "      <td>-1.041689</td>\n",
       "      <td>-0.953044</td>\n",
       "    </tr>\n",
       "    <tr>\n",
       "      <th>50%</th>\n",
       "      <td>-0.645521</td>\n",
       "      <td>-0.929262</td>\n",
       "      <td>-0.854733</td>\n",
       "    </tr>\n",
       "    <tr>\n",
       "      <th>75%</th>\n",
       "      <td>-0.591891</td>\n",
       "      <td>-0.831467</td>\n",
       "      <td>-0.782187</td>\n",
       "    </tr>\n",
       "    <tr>\n",
       "      <th>max</th>\n",
       "      <td>-0.475165</td>\n",
       "      <td>-0.637744</td>\n",
       "      <td>-0.684747</td>\n",
       "    </tr>\n",
       "  </tbody>\n",
       "</table>\n",
       "</div>"
      ],
      "text/plain": [
       "         central      joint   indepent\n",
       "count  30.000000  30.000000  30.000000\n",
       "mean   -0.707014  -0.936407  -0.884910\n",
       "std     0.174991   0.160264   0.137636\n",
       "min    -1.119460  -1.240960  -1.264698\n",
       "25%    -0.870943  -1.041689  -0.953044\n",
       "50%    -0.645521  -0.929262  -0.854733\n",
       "75%    -0.591891  -0.831467  -0.782187\n",
       "max    -0.475165  -0.637744  -0.684747"
      ]
     },
     "execution_count": 35,
     "metadata": {},
     "output_type": "execute_result"
    }
   ],
   "source": [
    "dataframes = []\n",
    "dataframes.append(describe(central_df, label='central'))\n",
    "dataframes.append(describe(joint_df, label='joint'))\n",
    "dataframes.append(describe(indep_df, label='indepent'))\n",
    "noregdf = pd.concat(dataframes, axis=1)\n",
    "noregdf"
   ]
  },
  {
   "cell_type": "code",
   "execution_count": 37,
   "id": "8b25eb29",
   "metadata": {},
   "outputs": [
    {
     "data": {
      "text/html": [
       "<div>\n",
       "<style scoped>\n",
       "    .dataframe tbody tr th:only-of-type {\n",
       "        vertical-align: middle;\n",
       "    }\n",
       "\n",
       "    .dataframe tbody tr th {\n",
       "        vertical-align: top;\n",
       "    }\n",
       "\n",
       "    .dataframe thead th {\n",
       "        text-align: right;\n",
       "    }\n",
       "</style>\n",
       "<table border=\"1\" class=\"dataframe\">\n",
       "  <thead>\n",
       "    <tr style=\"text-align: right;\">\n",
       "      <th></th>\n",
       "      <th>count</th>\n",
       "      <th>mean</th>\n",
       "      <th>std</th>\n",
       "      <th>min</th>\n",
       "      <th>25%</th>\n",
       "      <th>50%</th>\n",
       "      <th>75%</th>\n",
       "      <th>max</th>\n",
       "    </tr>\n",
       "  </thead>\n",
       "  <tbody>\n",
       "    <tr>\n",
       "      <th>count</th>\n",
       "      <td>30.0</td>\n",
       "      <td>30.000000</td>\n",
       "      <td>30.000000</td>\n",
       "      <td>30.000000</td>\n",
       "      <td>30.000000</td>\n",
       "      <td>30.000000</td>\n",
       "      <td>30.000000</td>\n",
       "      <td>30.000000</td>\n",
       "    </tr>\n",
       "    <tr>\n",
       "      <th>mean</th>\n",
       "      <td>100.0</td>\n",
       "      <td>-0.789356</td>\n",
       "      <td>0.262101</td>\n",
       "      <td>-1.614022</td>\n",
       "      <td>-0.910463</td>\n",
       "      <td>-0.745515</td>\n",
       "      <td>-0.628947</td>\n",
       "      <td>-0.363709</td>\n",
       "    </tr>\n",
       "    <tr>\n",
       "      <th>std</th>\n",
       "      <td>0.0</td>\n",
       "      <td>0.191350</td>\n",
       "      <td>0.084206</td>\n",
       "      <td>0.250240</td>\n",
       "      <td>0.245691</td>\n",
       "      <td>0.216647</td>\n",
       "      <td>0.205738</td>\n",
       "      <td>0.185291</td>\n",
       "    </tr>\n",
       "    <tr>\n",
       "      <th>min</th>\n",
       "      <td>100.0</td>\n",
       "      <td>-1.176989</td>\n",
       "      <td>0.103623</td>\n",
       "      <td>-2.108609</td>\n",
       "      <td>-1.345804</td>\n",
       "      <td>-1.216842</td>\n",
       "      <td>-1.130174</td>\n",
       "      <td>-0.761060</td>\n",
       "    </tr>\n",
       "    <tr>\n",
       "      <th>25%</th>\n",
       "      <td>100.0</td>\n",
       "      <td>-0.920646</td>\n",
       "      <td>0.213262</td>\n",
       "      <td>-1.781672</td>\n",
       "      <td>-1.037202</td>\n",
       "      <td>-0.884421</td>\n",
       "      <td>-0.740292</td>\n",
       "      <td>-0.514763</td>\n",
       "    </tr>\n",
       "    <tr>\n",
       "      <th>50%</th>\n",
       "      <td>100.0</td>\n",
       "      <td>-0.775608</td>\n",
       "      <td>0.246014</td>\n",
       "      <td>-1.672889</td>\n",
       "      <td>-0.890028</td>\n",
       "      <td>-0.740801</td>\n",
       "      <td>-0.600437</td>\n",
       "      <td>-0.333291</td>\n",
       "    </tr>\n",
       "    <tr>\n",
       "      <th>75%</th>\n",
       "      <td>100.0</td>\n",
       "      <td>-0.674831</td>\n",
       "      <td>0.317402</td>\n",
       "      <td>-1.450856</td>\n",
       "      <td>-0.757286</td>\n",
       "      <td>-0.600869</td>\n",
       "      <td>-0.510171</td>\n",
       "      <td>-0.198981</td>\n",
       "    </tr>\n",
       "    <tr>\n",
       "      <th>max</th>\n",
       "      <td>100.0</td>\n",
       "      <td>-0.390616</td>\n",
       "      <td>0.436406</td>\n",
       "      <td>-0.989545</td>\n",
       "      <td>-0.443964</td>\n",
       "      <td>-0.335705</td>\n",
       "      <td>-0.284563</td>\n",
       "      <td>-0.060358</td>\n",
       "    </tr>\n",
       "  </tbody>\n",
       "</table>\n",
       "</div>"
      ],
      "text/plain": [
       "       count       mean        std        min        25%        50%  \\\n",
       "count   30.0  30.000000  30.000000  30.000000  30.000000  30.000000   \n",
       "mean   100.0  -0.789356   0.262101  -1.614022  -0.910463  -0.745515   \n",
       "std      0.0   0.191350   0.084206   0.250240   0.245691   0.216647   \n",
       "min    100.0  -1.176989   0.103623  -2.108609  -1.345804  -1.216842   \n",
       "25%    100.0  -0.920646   0.213262  -1.781672  -1.037202  -0.884421   \n",
       "50%    100.0  -0.775608   0.246014  -1.672889  -0.890028  -0.740801   \n",
       "75%    100.0  -0.674831   0.317402  -1.450856  -0.757286  -0.600869   \n",
       "max    100.0  -0.390616   0.436406  -0.989545  -0.443964  -0.335705   \n",
       "\n",
       "             75%        max  \n",
       "count  30.000000  30.000000  \n",
       "mean   -0.628947  -0.363709  \n",
       "std     0.205738   0.185291  \n",
       "min    -1.130174  -0.761060  \n",
       "25%    -0.740292  -0.514763  \n",
       "50%    -0.600437  -0.333291  \n",
       "75%    -0.510171  -0.198981  \n",
       "max    -0.284563  -0.060358  "
      ]
     },
     "execution_count": 37,
     "metadata": {},
     "output_type": "execute_result"
    }
   ],
   "source": [
    "BASE_PATH = '16_duo/01_tau02/5000/'\n",
    "\n",
    "central_df = pd.read_csv(BASE_PATH + '00_central/02/pipeline.csv', sep=',', index_col=0)\n",
    "central_df.T.describe()"
   ]
  },
  {
   "cell_type": "code",
   "execution_count": null,
   "id": "d09ec309",
   "metadata": {},
   "outputs": [],
   "source": []
  }
 ],
 "metadata": {
  "kernelspec": {
   "display_name": "Python 3 (ipykernel)",
   "language": "python",
   "name": "python3"
  },
  "language_info": {
   "codemirror_mode": {
    "name": "ipython",
    "version": 3
   },
   "file_extension": ".py",
   "mimetype": "text/x-python",
   "name": "python",
   "nbconvert_exporter": "python",
   "pygments_lexer": "ipython3",
   "version": "3.9.6"
  }
 },
 "nbformat": 4,
 "nbformat_minor": 5
}
